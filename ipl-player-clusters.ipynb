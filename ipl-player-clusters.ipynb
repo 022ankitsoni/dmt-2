{
 "cells": [
  {
   "cell_type": "markdown",
   "metadata": {
    "papermill": {
     "duration": 0.043086,
     "end_time": "2022-11-06T09:43:23.098420",
     "exception": false,
     "start_time": "2022-11-06T09:43:23.055334",
     "status": "completed"
    },
    "tags": []
   },
   "source": [
    "<div>\n",
    "<img src=\"https://www.headlinesoftoday.com/wp-content/uploads/2020/03/Indian-Premier-League-IPL-2020-Full-ScheduleTime-Table-and-Venue-and-Fixtures-e1588313204876.jpg\" width=\"550\"/>\n",
    "</div>\n",
    "\n",
    "<div class=\"alert alert-block alert-info\">  \n",
    "<h1><strong><center>🏏 Indian Premier League</center></strong></h1>\n",
    "    <p>The Indian Premier League is a professional Twenty20 cricket league in India contested during March or April and May of every year by eight teams representing eight different cities in India.\n",
    "    </p>\n",
    "</div>"
   ]
  },
  {
   "cell_type": "markdown",
   "metadata": {
    "id": "kS98F-fn2sJt",
    "papermill": {
     "duration": 0.040901,
     "end_time": "2022-11-06T09:43:23.180866",
     "exception": false,
     "start_time": "2022-11-06T09:43:23.139965",
     "status": "completed"
    },
    "tags": []
   },
   "source": [
    "> Aim: To create clusters of players based on their strengths in order to show a well-rounded cricket team of all time.\n"
   ]
  },
  {
   "cell_type": "markdown",
   "metadata": {
    "id": "EyK62RvU2sJv",
    "papermill": {
     "duration": 0.041668,
     "end_time": "2022-11-06T09:43:23.263815",
     "exception": false,
     "start_time": "2022-11-06T09:43:23.222147",
     "status": "completed"
    },
    "tags": []
   },
   "source": [
    "### Data preprocessing"
   ]
  },
  {
   "cell_type": "code",
   "execution_count": 1,
   "metadata": {
    "execution": {
     "iopub.execute_input": "2022-11-06T09:43:23.350451Z",
     "iopub.status.busy": "2022-11-06T09:43:23.349762Z",
     "iopub.status.idle": "2022-11-06T09:43:25.449928Z",
     "shell.execute_reply": "2022-11-06T09:43:25.449266Z",
     "shell.execute_reply.started": "2022-11-05T14:22:21.276482Z"
    },
    "executionInfo": {
     "elapsed": 1845,
     "status": "ok",
     "timestamp": 1596356835554,
     "user": {
      "displayName": "RUCHI BHATIA",
      "photoUrl": "",
      "userId": "04469733066996764193"
     },
     "user_tz": -330
    },
    "id": "z8OFnKMv2sJw",
    "papermill": {
     "duration": 2.144654,
     "end_time": "2022-11-06T09:43:25.450072",
     "exception": false,
     "start_time": "2022-11-06T09:43:23.305418",
     "status": "completed"
    },
    "tags": []
   },
   "outputs": [],
   "source": [
    "import pandas as pd\n",
    "import numpy as np\n",
    "import seaborn as sns\n",
    "import plotly.express as px\n",
    "import matplotlib.pyplot as plt\n",
    "%matplotlib inline\n",
    "\n",
    "from sklearn import metrics\n",
    "from sklearn.cluster import KMeans\n",
    "from scipy.spatial.distance import cdist \n",
    "from colorama import Fore, Back, Style\n",
    "y_ = Fore.YELLOW\n",
    "r_ = Fore.RED\n",
    "g_ = Fore.GREEN\n",
    "b_ = Fore.BLUE\n",
    "m_ = Fore.MAGENTA"
   ]
  },
  {
   "cell_type": "code",
   "execution_count": 2,
   "metadata": {
    "execution": {
     "iopub.execute_input": "2022-11-06T09:43:25.541359Z",
     "iopub.status.busy": "2022-11-06T09:43:25.540594Z",
     "iopub.status.idle": "2022-11-06T09:43:25.542929Z",
     "shell.execute_reply": "2022-11-06T09:43:25.543489Z",
     "shell.execute_reply.started": "2022-11-05T14:22:22.834195Z"
    },
    "papermill": {
     "duration": 0.050468,
     "end_time": "2022-11-06T09:43:25.543647",
     "exception": false,
     "start_time": "2022-11-06T09:43:25.493179",
     "status": "completed"
    },
    "tags": []
   },
   "outputs": [],
   "source": [
    "custom_colors = [\"#023e8a\", \"#0096c7\",\"#90e0ef\",\"#ff5400\",\"#ffbd00\"]\n",
    "customPalette = sns.set_palette(sns.color_palette(custom_colors))"
   ]
  },
  {
   "cell_type": "code",
   "execution_count": 3,
   "metadata": {
    "execution": {
     "iopub.execute_input": "2022-11-06T09:43:25.631670Z",
     "iopub.status.busy": "2022-11-06T09:43:25.630994Z",
     "iopub.status.idle": "2022-11-06T09:43:25.726748Z",
     "shell.execute_reply": "2022-11-06T09:43:25.726060Z",
     "shell.execute_reply.started": "2022-11-05T14:22:22.839323Z"
    },
    "papermill": {
     "duration": 0.140559,
     "end_time": "2022-11-06T09:43:25.726872",
     "exception": false,
     "start_time": "2022-11-06T09:43:25.586313",
     "status": "completed"
    },
    "tags": []
   },
   "outputs": [
    {
     "data": {
      "image/png": "[encoded data removed]",
      "text/plain": [
       "<Figure size 360x72 with 1 Axes>"
      ]
     },
     "metadata": {
      "needs_background": "light"
     },
     "output_type": "display_data"
    }
   ],
   "source": [
    "sns.palplot(sns.color_palette(custom_colors),size=1)"
   ]
  },
  {
   "cell_type": "code",
   "execution_count": 4,
   "metadata": {
    "execution": {
     "iopub.execute_input": "2022-11-06T09:43:25.817308Z",
     "iopub.status.busy": "2022-11-06T09:43:25.816283Z",
     "iopub.status.idle": "2022-11-06T09:43:25.819570Z",
     "shell.execute_reply": "2022-11-06T09:43:25.819057Z",
     "shell.execute_reply.started": "2022-11-05T14:22:22.925473Z"
    },
    "papermill": {
     "duration": 0.050263,
     "end_time": "2022-11-06T09:43:25.819693",
     "exception": false,
     "start_time": "2022-11-06T09:43:25.769430",
     "status": "completed"
    },
    "tags": []
   },
   "outputs": [],
   "source": [
    "sns.set_context(\"poster\")"
   ]
  },
  {
   "cell_type": "code",
   "execution_count": 5,
   "metadata": {
    "execution": {
     "iopub.execute_input": "2022-11-06T09:43:25.915963Z",
     "iopub.status.busy": "2022-11-06T09:43:25.915265Z",
     "iopub.status.idle": "2022-11-06T09:43:25.944831Z",
     "shell.execute_reply": "2022-11-06T09:43:25.945363Z",
     "shell.execute_reply.started": "2022-11-05T14:22:22.932944Z"
    },
    "papermill": {
     "duration": 0.083381,
     "end_time": "2022-11-06T09:43:25.945510",
     "exception": false,
     "start_time": "2022-11-06T09:43:25.862129",
     "status": "completed"
    },
    "tags": []
   },
   "outputs": [
    {
     "data": {
      "text/html": [
       "<div>\n",
       "<style scoped>\n",
       "    .dataframe tbody tr th:only-of-type {\n",
       "        vertical-align: middle;\n",
       "    }\n",
       "\n",
       "    .dataframe tbody tr th {\n",
       "        vertical-align: top;\n",
       "    }\n",
       "\n",
       "    .dataframe thead th {\n",
       "        text-align: right;\n",
       "    }\n",
       "</style>\n",
       "<table border=\"1\" class=\"dataframe\">\n",
       "  <thead>\n",
       "    <tr style=\"text-align: right;\">\n",
       "      <th></th>\n",
       "      <th>Player_Id</th>\n",
       "      <th>Player_Name</th>\n",
       "      <th>DOB</th>\n",
       "      <th>Batting_Hand</th>\n",
       "      <th>Bowling_Skill</th>\n",
       "      <th>Country</th>\n",
       "    </tr>\n",
       "  </thead>\n",
       "  <tbody>\n",
       "    <tr>\n",
       "      <th>0</th>\n",
       "      <td>1</td>\n",
       "      <td>SC Ganguly</td>\n",
       "      <td>8-Jul-72</td>\n",
       "      <td>Left_Hand</td>\n",
       "      <td>Right-arm medium</td>\n",
       "      <td>India</td>\n",
       "    </tr>\n",
       "    <tr>\n",
       "      <th>1</th>\n",
       "      <td>2</td>\n",
       "      <td>BB McCullum</td>\n",
       "      <td>27-Sep-81</td>\n",
       "      <td>Right_Hand</td>\n",
       "      <td>Right-arm medium</td>\n",
       "      <td>New Zealand</td>\n",
       "    </tr>\n",
       "    <tr>\n",
       "      <th>2</th>\n",
       "      <td>3</td>\n",
       "      <td>RT Ponting</td>\n",
       "      <td>19-Dec-74</td>\n",
       "      <td>Right_Hand</td>\n",
       "      <td>Right-arm medium</td>\n",
       "      <td>Australia</td>\n",
       "    </tr>\n",
       "    <tr>\n",
       "      <th>3</th>\n",
       "      <td>4</td>\n",
       "      <td>DJ Hussey</td>\n",
       "      <td>15-Jul-77</td>\n",
       "      <td>Right_Hand</td>\n",
       "      <td>Right-arm offbreak</td>\n",
       "      <td>Australia</td>\n",
       "    </tr>\n",
       "    <tr>\n",
       "      <th>4</th>\n",
       "      <td>5</td>\n",
       "      <td>Mohammad Hafeez</td>\n",
       "      <td>17-Oct-80</td>\n",
       "      <td>Right_Hand</td>\n",
       "      <td>Right-arm offbreak</td>\n",
       "      <td>Pakistan</td>\n",
       "    </tr>\n",
       "    <tr>\n",
       "      <th>5</th>\n",
       "      <td>6</td>\n",
       "      <td>R Dravid</td>\n",
       "      <td>11-Jan-73</td>\n",
       "      <td>Right_Hand</td>\n",
       "      <td>Right-arm offbreak</td>\n",
       "      <td>India</td>\n",
       "    </tr>\n",
       "    <tr>\n",
       "      <th>6</th>\n",
       "      <td>7</td>\n",
       "      <td>W Jaffer</td>\n",
       "      <td>16-Feb-78</td>\n",
       "      <td>Right_Hand</td>\n",
       "      <td>Right-arm offbreak</td>\n",
       "      <td>India</td>\n",
       "    </tr>\n",
       "    <tr>\n",
       "      <th>7</th>\n",
       "      <td>8</td>\n",
       "      <td>V Kohli</td>\n",
       "      <td>5-Nov-88</td>\n",
       "      <td>Right_Hand</td>\n",
       "      <td>Right-arm medium</td>\n",
       "      <td>India</td>\n",
       "    </tr>\n",
       "    <tr>\n",
       "      <th>8</th>\n",
       "      <td>9</td>\n",
       "      <td>JH Kallis</td>\n",
       "      <td>16-Oct-75</td>\n",
       "      <td>Right_Hand</td>\n",
       "      <td>Right-arm fast-medium</td>\n",
       "      <td>South Africa</td>\n",
       "    </tr>\n",
       "    <tr>\n",
       "      <th>9</th>\n",
       "      <td>10</td>\n",
       "      <td>CL White</td>\n",
       "      <td>18-Aug-83</td>\n",
       "      <td>Right_Hand</td>\n",
       "      <td>Legbreak googly</td>\n",
       "      <td>Australia</td>\n",
       "    </tr>\n",
       "  </tbody>\n",
       "</table>\n",
       "</div>"
      ],
      "text/plain": [
       "   Player_Id      Player_Name        DOB Batting_Hand          Bowling_Skill  \\\n",
       "0          1       SC Ganguly   8-Jul-72    Left_Hand       Right-arm medium   \n",
       "1          2      BB McCullum  27-Sep-81   Right_Hand       Right-arm medium   \n",
       "2          3       RT Ponting  19-Dec-74   Right_Hand       Right-arm medium   \n",
       "3          4        DJ Hussey  15-Jul-77   Right_Hand     Right-arm offbreak   \n",
       "4          5  Mohammad Hafeez  17-Oct-80   Right_Hand     Right-arm offbreak   \n",
       "5          6         R Dravid  11-Jan-73   Right_Hand     Right-arm offbreak   \n",
       "6          7         W Jaffer  16-Feb-78   Right_Hand     Right-arm offbreak   \n",
       "7          8          V Kohli   5-Nov-88   Right_Hand       Right-arm medium   \n",
       "8          9        JH Kallis  16-Oct-75   Right_Hand  Right-arm fast-medium   \n",
       "9         10         CL White  18-Aug-83   Right_Hand        Legbreak googly   \n",
       "\n",
       "        Country  \n",
       "0         India  \n",
       "1   New Zealand  \n",
       "2     Australia  \n",
       "3     Australia  \n",
       "4      Pakistan  \n",
       "5         India  \n",
       "6         India  \n",
       "7         India  \n",
       "8  South Africa  \n",
       "9     Australia  "
      ]
     },
     "execution_count": 5,
     "metadata": {},
     "output_type": "execute_result"
    }
   ],
   "source": [
    "players = pd.read_csv(r'../input/indian-premier-league-csv-dataset/Player.csv')\n",
    "players = players.drop([\"Is_Umpire\", \"Unnamed: 7\"], axis = 1)\n",
    "players.head(10)"
   ]
  },
  {
   "cell_type": "code",
   "execution_count": 6,
   "metadata": {
    "execution": {
     "iopub.execute_input": "2022-11-06T09:43:26.037212Z",
     "iopub.status.busy": "2022-11-06T09:43:26.036114Z",
     "iopub.status.idle": "2022-11-06T09:43:26.312287Z",
     "shell.execute_reply": "2022-11-06T09:43:26.311618Z",
     "shell.execute_reply.started": "2022-11-05T14:22:22.971778Z"
    },
    "executionInfo": {
     "elapsed": 1841,
     "status": "ok",
     "timestamp": 1596356835555,
     "user": {
      "displayName": "RUCHI BHATIA",
      "photoUrl": "",
      "userId": "04469733066996764193"
     },
     "user_tz": -330
    },
    "id": "dWERXALtSt8m",
    "outputId": "bdfcfae4-8507-469d-a5e5-e14dbbbb9dde",
    "papermill": {
     "duration": 0.323366,
     "end_time": "2022-11-06T09:43:26.312418",
     "exception": false,
     "start_time": "2022-11-06T09:43:25.989052",
     "status": "completed"
    },
    "tags": []
   },
   "outputs": [
    {
     "data": {
      "text/html": [
       "<div>\n",
       "<style scoped>\n",
       "    .dataframe tbody tr th:only-of-type {\n",
       "        vertical-align: middle;\n",
       "    }\n",
       "\n",
       "    .dataframe tbody tr th {\n",
       "        vertical-align: top;\n",
       "    }\n",
       "\n",
       "    .dataframe thead th {\n",
       "        text-align: right;\n",
       "    }\n",
       "</style>\n",
       "<table border=\"1\" class=\"dataframe\">\n",
       "  <thead>\n",
       "    <tr style=\"text-align: right;\">\n",
       "      <th></th>\n",
       "      <th>Match_Id</th>\n",
       "      <th>Innings_Id</th>\n",
       "      <th>Over_Id</th>\n",
       "      <th>Ball_Id</th>\n",
       "      <th>Team_Batting_Id</th>\n",
       "      <th>Team_Bowling_Id</th>\n",
       "      <th>Striker_Id</th>\n",
       "      <th>Striker_Batting_Position</th>\n",
       "      <th>Non_Striker_Id</th>\n",
       "      <th>Bowler_Id</th>\n",
       "      <th>Batsman_Scored</th>\n",
       "      <th>Extra_Type</th>\n",
       "      <th>Extra_Runs</th>\n",
       "      <th>Player_dissimal_Id</th>\n",
       "      <th>Dissimal_Type</th>\n",
       "      <th>Fielder_Id</th>\n",
       "    </tr>\n",
       "  </thead>\n",
       "  <tbody>\n",
       "    <tr>\n",
       "      <th>0</th>\n",
       "      <td>335987</td>\n",
       "      <td>1</td>\n",
       "      <td>1</td>\n",
       "      <td>1</td>\n",
       "      <td>1</td>\n",
       "      <td>2</td>\n",
       "      <td>1</td>\n",
       "      <td>1</td>\n",
       "      <td>2</td>\n",
       "      <td>14</td>\n",
       "      <td>0</td>\n",
       "      <td>legbyes</td>\n",
       "      <td>1</td>\n",
       "      <td></td>\n",
       "      <td></td>\n",
       "      <td></td>\n",
       "    </tr>\n",
       "    <tr>\n",
       "      <th>1</th>\n",
       "      <td>335987</td>\n",
       "      <td>1</td>\n",
       "      <td>1</td>\n",
       "      <td>2</td>\n",
       "      <td>1</td>\n",
       "      <td>2</td>\n",
       "      <td>2</td>\n",
       "      <td>2</td>\n",
       "      <td>1</td>\n",
       "      <td>14</td>\n",
       "      <td>0</td>\n",
       "      <td></td>\n",
       "      <td></td>\n",
       "      <td></td>\n",
       "      <td></td>\n",
       "      <td></td>\n",
       "    </tr>\n",
       "    <tr>\n",
       "      <th>2</th>\n",
       "      <td>335987</td>\n",
       "      <td>1</td>\n",
       "      <td>1</td>\n",
       "      <td>3</td>\n",
       "      <td>1</td>\n",
       "      <td>2</td>\n",
       "      <td>2</td>\n",
       "      <td>2</td>\n",
       "      <td>1</td>\n",
       "      <td>14</td>\n",
       "      <td>0</td>\n",
       "      <td>wides</td>\n",
       "      <td>1</td>\n",
       "      <td></td>\n",
       "      <td></td>\n",
       "      <td></td>\n",
       "    </tr>\n",
       "    <tr>\n",
       "      <th>3</th>\n",
       "      <td>335987</td>\n",
       "      <td>1</td>\n",
       "      <td>1</td>\n",
       "      <td>4</td>\n",
       "      <td>1</td>\n",
       "      <td>2</td>\n",
       "      <td>2</td>\n",
       "      <td>2</td>\n",
       "      <td>1</td>\n",
       "      <td>14</td>\n",
       "      <td>0</td>\n",
       "      <td></td>\n",
       "      <td></td>\n",
       "      <td></td>\n",
       "      <td></td>\n",
       "      <td></td>\n",
       "    </tr>\n",
       "    <tr>\n",
       "      <th>4</th>\n",
       "      <td>335987</td>\n",
       "      <td>1</td>\n",
       "      <td>1</td>\n",
       "      <td>5</td>\n",
       "      <td>1</td>\n",
       "      <td>2</td>\n",
       "      <td>2</td>\n",
       "      <td>2</td>\n",
       "      <td>1</td>\n",
       "      <td>14</td>\n",
       "      <td>0</td>\n",
       "      <td></td>\n",
       "      <td></td>\n",
       "      <td></td>\n",
       "      <td></td>\n",
       "      <td></td>\n",
       "    </tr>\n",
       "    <tr>\n",
       "      <th>5</th>\n",
       "      <td>335987</td>\n",
       "      <td>1</td>\n",
       "      <td>1</td>\n",
       "      <td>6</td>\n",
       "      <td>1</td>\n",
       "      <td>2</td>\n",
       "      <td>2</td>\n",
       "      <td>2</td>\n",
       "      <td>1</td>\n",
       "      <td>14</td>\n",
       "      <td>0</td>\n",
       "      <td></td>\n",
       "      <td></td>\n",
       "      <td></td>\n",
       "      <td></td>\n",
       "      <td></td>\n",
       "    </tr>\n",
       "    <tr>\n",
       "      <th>6</th>\n",
       "      <td>335987</td>\n",
       "      <td>1</td>\n",
       "      <td>1</td>\n",
       "      <td>7</td>\n",
       "      <td>1</td>\n",
       "      <td>2</td>\n",
       "      <td>2</td>\n",
       "      <td>2</td>\n",
       "      <td>1</td>\n",
       "      <td>14</td>\n",
       "      <td>0</td>\n",
       "      <td>legbyes</td>\n",
       "      <td>1</td>\n",
       "      <td></td>\n",
       "      <td></td>\n",
       "      <td></td>\n",
       "    </tr>\n",
       "    <tr>\n",
       "      <th>7</th>\n",
       "      <td>335987</td>\n",
       "      <td>1</td>\n",
       "      <td>2</td>\n",
       "      <td>1</td>\n",
       "      <td>1</td>\n",
       "      <td>2</td>\n",
       "      <td>2</td>\n",
       "      <td>2</td>\n",
       "      <td>1</td>\n",
       "      <td>15</td>\n",
       "      <td>0</td>\n",
       "      <td></td>\n",
       "      <td></td>\n",
       "      <td></td>\n",
       "      <td></td>\n",
       "      <td></td>\n",
       "    </tr>\n",
       "    <tr>\n",
       "      <th>8</th>\n",
       "      <td>335987</td>\n",
       "      <td>1</td>\n",
       "      <td>2</td>\n",
       "      <td>2</td>\n",
       "      <td>1</td>\n",
       "      <td>2</td>\n",
       "      <td>2</td>\n",
       "      <td>2</td>\n",
       "      <td>1</td>\n",
       "      <td>15</td>\n",
       "      <td>4</td>\n",
       "      <td></td>\n",
       "      <td></td>\n",
       "      <td></td>\n",
       "      <td></td>\n",
       "      <td></td>\n",
       "    </tr>\n",
       "    <tr>\n",
       "      <th>9</th>\n",
       "      <td>335987</td>\n",
       "      <td>1</td>\n",
       "      <td>2</td>\n",
       "      <td>3</td>\n",
       "      <td>1</td>\n",
       "      <td>2</td>\n",
       "      <td>2</td>\n",
       "      <td>2</td>\n",
       "      <td>1</td>\n",
       "      <td>15</td>\n",
       "      <td>4</td>\n",
       "      <td></td>\n",
       "      <td></td>\n",
       "      <td></td>\n",
       "      <td></td>\n",
       "      <td></td>\n",
       "    </tr>\n",
       "  </tbody>\n",
       "</table>\n",
       "</div>"
      ],
      "text/plain": [
       "   Match_Id  Innings_Id  Over_Id  Ball_Id  Team_Batting_Id  Team_Bowling_Id  \\\n",
       "0    335987           1        1        1                1                2   \n",
       "1    335987           1        1        2                1                2   \n",
       "2    335987           1        1        3                1                2   \n",
       "3    335987           1        1        4                1                2   \n",
       "4    335987           1        1        5                1                2   \n",
       "5    335987           1        1        6                1                2   \n",
       "6    335987           1        1        7                1                2   \n",
       "7    335987           1        2        1                1                2   \n",
       "8    335987           1        2        2                1                2   \n",
       "9    335987           1        2        3                1                2   \n",
       "\n",
       "   Striker_Id  Striker_Batting_Position  Non_Striker_Id  Bowler_Id  \\\n",
       "0           1                         1               2         14   \n",
       "1           2                         2               1         14   \n",
       "2           2                         2               1         14   \n",
       "3           2                         2               1         14   \n",
       "4           2                         2               1         14   \n",
       "5           2                         2               1         14   \n",
       "6           2                         2               1         14   \n",
       "7           2                         2               1         15   \n",
       "8           2                         2               1         15   \n",
       "9           2                         2               1         15   \n",
       "\n",
       "  Batsman_Scored Extra_Type Extra_Runs Player_dissimal_Id Dissimal_Type  \\\n",
       "0              0    legbyes          1                                    \n",
       "1              0                                                          \n",
       "2              0      wides          1                                    \n",
       "3              0                                                          \n",
       "4              0                                                          \n",
       "5              0                                                          \n",
       "6              0    legbyes          1                                    \n",
       "7              0                                                          \n",
       "8              4                                                          \n",
       "9              4                                                          \n",
       "\n",
       "  Fielder_Id  \n",
       "0             \n",
       "1             \n",
       "2             \n",
       "3             \n",
       "4             \n",
       "5             \n",
       "6             \n",
       "7             \n",
       "8             \n",
       "9             "
      ]
     },
     "execution_count": 6,
     "metadata": {},
     "output_type": "execute_result"
    }
   ],
   "source": [
    "runs = pd.read_csv(r'../input/indian-premier-league-csv-dataset/Ball_by_Ball.csv')\n",
    "runs.head(10)"
   ]
  },
  {
   "cell_type": "code",
   "execution_count": 7,
   "metadata": {
    "execution": {
     "iopub.execute_input": "2022-11-06T09:43:26.414193Z",
     "iopub.status.busy": "2022-11-06T09:43:26.413489Z",
     "iopub.status.idle": "2022-11-06T09:43:26.419791Z",
     "shell.execute_reply": "2022-11-06T09:43:26.419151Z",
     "shell.execute_reply.started": "2022-11-05T14:22:23.177599Z"
    },
    "papermill": {
     "duration": 0.062697,
     "end_time": "2022-11-06T09:43:26.419913",
     "exception": false,
     "start_time": "2022-11-06T09:43:26.357216",
     "status": "completed"
    },
    "tags": []
   },
   "outputs": [
    {
     "data": {
      "text/plain": [
       "array([' ', 'caught', 'bowled', 'run out', 'lbw', 'retired hurt',\n",
       "       'stumped', 'caught and bowled', 'hit wicket',\n",
       "       'obstructing the field'], dtype=object)"
      ]
     },
     "execution_count": 7,
     "metadata": {},
     "output_type": "execute_result"
    }
   ],
   "source": [
    "runs.Dissimal_Type.unique()"
   ]
  },
  {
   "cell_type": "code",
   "execution_count": 8,
   "metadata": {
    "execution": {
     "iopub.execute_input": "2022-11-06T09:43:26.518968Z",
     "iopub.status.busy": "2022-11-06T09:43:26.515740Z",
     "iopub.status.idle": "2022-11-06T09:43:26.748417Z",
     "shell.execute_reply": "2022-11-06T09:43:26.749019Z",
     "shell.execute_reply.started": "2022-11-05T14:22:23.195684Z"
    },
    "papermill": {
     "duration": 0.285735,
     "end_time": "2022-11-06T09:43:26.749190",
     "exception": false,
     "start_time": "2022-11-06T09:43:26.463455",
     "status": "completed"
    },
    "tags": []
   },
   "outputs": [],
   "source": [
    "runs['Dissimal_Type'] = runs['Dissimal_Type'].replace(r'^\\s*$', np.nan, regex=True)"
   ]
  },
  {
   "cell_type": "code",
   "execution_count": 9,
   "metadata": {
    "execution": {
     "iopub.execute_input": "2022-11-06T09:43:26.841633Z",
     "iopub.status.busy": "2022-11-06T09:43:26.840982Z",
     "iopub.status.idle": "2022-11-06T09:43:26.848577Z",
     "shell.execute_reply": "2022-11-06T09:43:26.847963Z",
     "shell.execute_reply.started": "2022-11-05T14:22:23.393581Z"
    },
    "papermill": {
     "duration": 0.055172,
     "end_time": "2022-11-06T09:43:26.848692",
     "exception": false,
     "start_time": "2022-11-06T09:43:26.793520",
     "status": "completed"
    },
    "tags": []
   },
   "outputs": [
    {
     "data": {
      "text/plain": [
       "Match_Id                     int64\n",
       "Innings_Id                   int64\n",
       "Over_Id                      int64\n",
       "Ball_Id                      int64\n",
       "Team_Batting_Id              int64\n",
       "Team_Bowling_Id              int64\n",
       "Striker_Id                   int64\n",
       "Striker_Batting_Position     int64\n",
       "Non_Striker_Id               int64\n",
       "Bowler_Id                    int64\n",
       "Batsman_Scored              object\n",
       "Extra_Type                  object\n",
       "Extra_Runs                  object\n",
       "Player_dissimal_Id          object\n",
       "Dissimal_Type               object\n",
       "Fielder_Id                  object\n",
       "dtype: object"
      ]
     },
     "execution_count": 9,
     "metadata": {},
     "output_type": "execute_result"
    }
   ],
   "source": [
    "runs.dtypes"
   ]
  },
  {
   "cell_type": "code",
   "execution_count": 10,
   "metadata": {
    "execution": {
     "iopub.execute_input": "2022-11-06T09:43:27.068947Z",
     "iopub.status.busy": "2022-11-06T09:43:27.068212Z",
     "iopub.status.idle": "2022-11-06T09:43:27.164641Z",
     "shell.execute_reply": "2022-11-06T09:43:27.164027Z",
     "shell.execute_reply.started": "2022-11-05T14:22:23.400353Z"
    },
    "executionInfo": {
     "elapsed": 2271,
     "status": "ok",
     "timestamp": 1596356836018,
     "user": {
      "displayName": "RUCHI BHATIA",
      "photoUrl": "",
      "userId": "04469733066996764193"
     },
     "user_tz": -330
    },
    "id": "Tkd4CxUx2sKN",
    "outputId": "56a12c3f-888e-4c71-8239-2fae58372acf",
    "papermill": {
     "duration": 0.25452,
     "end_time": "2022-11-06T09:43:27.164832",
     "exception": false,
     "start_time": "2022-11-06T09:43:26.910312",
     "status": "completed"
    },
    "tags": []
   },
   "outputs": [],
   "source": [
    "runs[\"Extra_Runs\"] = pd.to_numeric(runs[\"Extra_Runs\"], errors=\"coerce\")\n",
    "runs[\"Extra_Runs\"] = runs[\"Extra_Runs\"].fillna(0)\n",
    "\n",
    "runs[\"Batsman_Scored\"] = pd.to_numeric(runs[\"Batsman_Scored\"], errors=\"coerce\")\n",
    "runs[\"Batsman_Scored\"] = runs[\"Batsman_Scored\"].fillna(0)"
   ]
  },
  {
   "cell_type": "code",
   "execution_count": 11,
   "metadata": {
    "execution": {
     "iopub.execute_input": "2022-11-06T09:43:27.259133Z",
     "iopub.status.busy": "2022-11-06T09:43:27.258053Z",
     "iopub.status.idle": "2022-11-06T09:43:27.280574Z",
     "shell.execute_reply": "2022-11-06T09:43:27.279439Z",
     "shell.execute_reply.started": "2022-11-05T14:22:23.556084Z"
    },
    "papermill": {
     "duration": 0.070445,
     "end_time": "2022-11-06T09:43:27.280793",
     "exception": false,
     "start_time": "2022-11-06T09:43:27.210348",
     "status": "completed"
    },
    "tags": []
   },
   "outputs": [
    {
     "data": {
      "text/html": [
       "<div>\n",
       "<style scoped>\n",
       "    .dataframe tbody tr th:only-of-type {\n",
       "        vertical-align: middle;\n",
       "    }\n",
       "\n",
       "    .dataframe tbody tr th {\n",
       "        vertical-align: top;\n",
       "    }\n",
       "\n",
       "    .dataframe thead th {\n",
       "        text-align: right;\n",
       "    }\n",
       "</style>\n",
       "<table border=\"1\" class=\"dataframe\">\n",
       "  <thead>\n",
       "    <tr style=\"text-align: right;\">\n",
       "      <th></th>\n",
       "      <th>Match_Id</th>\n",
       "      <th>Innings_Id</th>\n",
       "      <th>Over_Id</th>\n",
       "      <th>Ball_Id</th>\n",
       "      <th>Team_Batting_Id</th>\n",
       "      <th>Team_Bowling_Id</th>\n",
       "      <th>Striker_Id</th>\n",
       "      <th>Striker_Batting_Position</th>\n",
       "      <th>Non_Striker_Id</th>\n",
       "      <th>Bowler_Id</th>\n",
       "      <th>Batsman_Scored</th>\n",
       "      <th>Extra_Type</th>\n",
       "      <th>Extra_Runs</th>\n",
       "      <th>Player_dissimal_Id</th>\n",
       "      <th>Dissimal_Type</th>\n",
       "      <th>Fielder_Id</th>\n",
       "    </tr>\n",
       "  </thead>\n",
       "  <tbody>\n",
       "    <tr>\n",
       "      <th>0</th>\n",
       "      <td>335987</td>\n",
       "      <td>1</td>\n",
       "      <td>1</td>\n",
       "      <td>1</td>\n",
       "      <td>1</td>\n",
       "      <td>2</td>\n",
       "      <td>1</td>\n",
       "      <td>1</td>\n",
       "      <td>2</td>\n",
       "      <td>14</td>\n",
       "      <td>0.0</td>\n",
       "      <td>legbyes</td>\n",
       "      <td>1.0</td>\n",
       "      <td></td>\n",
       "      <td>NaN</td>\n",
       "      <td></td>\n",
       "    </tr>\n",
       "    <tr>\n",
       "      <th>1</th>\n",
       "      <td>335987</td>\n",
       "      <td>1</td>\n",
       "      <td>1</td>\n",
       "      <td>2</td>\n",
       "      <td>1</td>\n",
       "      <td>2</td>\n",
       "      <td>2</td>\n",
       "      <td>2</td>\n",
       "      <td>1</td>\n",
       "      <td>14</td>\n",
       "      <td>0.0</td>\n",
       "      <td></td>\n",
       "      <td>0.0</td>\n",
       "      <td></td>\n",
       "      <td>NaN</td>\n",
       "      <td></td>\n",
       "    </tr>\n",
       "    <tr>\n",
       "      <th>2</th>\n",
       "      <td>335987</td>\n",
       "      <td>1</td>\n",
       "      <td>1</td>\n",
       "      <td>3</td>\n",
       "      <td>1</td>\n",
       "      <td>2</td>\n",
       "      <td>2</td>\n",
       "      <td>2</td>\n",
       "      <td>1</td>\n",
       "      <td>14</td>\n",
       "      <td>0.0</td>\n",
       "      <td>wides</td>\n",
       "      <td>1.0</td>\n",
       "      <td></td>\n",
       "      <td>NaN</td>\n",
       "      <td></td>\n",
       "    </tr>\n",
       "    <tr>\n",
       "      <th>3</th>\n",
       "      <td>335987</td>\n",
       "      <td>1</td>\n",
       "      <td>1</td>\n",
       "      <td>4</td>\n",
       "      <td>1</td>\n",
       "      <td>2</td>\n",
       "      <td>2</td>\n",
       "      <td>2</td>\n",
       "      <td>1</td>\n",
       "      <td>14</td>\n",
       "      <td>0.0</td>\n",
       "      <td></td>\n",
       "      <td>0.0</td>\n",
       "      <td></td>\n",
       "      <td>NaN</td>\n",
       "      <td></td>\n",
       "    </tr>\n",
       "    <tr>\n",
       "      <th>4</th>\n",
       "      <td>335987</td>\n",
       "      <td>1</td>\n",
       "      <td>1</td>\n",
       "      <td>5</td>\n",
       "      <td>1</td>\n",
       "      <td>2</td>\n",
       "      <td>2</td>\n",
       "      <td>2</td>\n",
       "      <td>1</td>\n",
       "      <td>14</td>\n",
       "      <td>0.0</td>\n",
       "      <td></td>\n",
       "      <td>0.0</td>\n",
       "      <td></td>\n",
       "      <td>NaN</td>\n",
       "      <td></td>\n",
       "    </tr>\n",
       "  </tbody>\n",
       "</table>\n",
       "</div>"
      ],
      "text/plain": [
       "   Match_Id  Innings_Id  Over_Id  Ball_Id  Team_Batting_Id  Team_Bowling_Id  \\\n",
       "0    335987           1        1        1                1                2   \n",
       "1    335987           1        1        2                1                2   \n",
       "2    335987           1        1        3                1                2   \n",
       "3    335987           1        1        4                1                2   \n",
       "4    335987           1        1        5                1                2   \n",
       "\n",
       "   Striker_Id  Striker_Batting_Position  Non_Striker_Id  Bowler_Id  \\\n",
       "0           1                         1               2         14   \n",
       "1           2                         2               1         14   \n",
       "2           2                         2               1         14   \n",
       "3           2                         2               1         14   \n",
       "4           2                         2               1         14   \n",
       "\n",
       "   Batsman_Scored Extra_Type  Extra_Runs Player_dissimal_Id Dissimal_Type  \\\n",
       "0             0.0    legbyes         1.0                              NaN   \n",
       "1             0.0                    0.0                              NaN   \n",
       "2             0.0      wides         1.0                              NaN   \n",
       "3             0.0                    0.0                              NaN   \n",
       "4             0.0                    0.0                              NaN   \n",
       "\n",
       "  Fielder_Id  \n",
       "0             \n",
       "1             \n",
       "2             \n",
       "3             \n",
       "4             "
      ]
     },
     "execution_count": 11,
     "metadata": {},
     "output_type": "execute_result"
    }
   ],
   "source": [
    "runs.head()"
   ]
  },
  {
   "cell_type": "markdown",
   "metadata": {
    "id": "Ss5tZiHb2sKS",
    "papermill": {
     "duration": 0.048034,
     "end_time": "2022-11-06T09:43:27.382293",
     "exception": false,
     "start_time": "2022-11-06T09:43:27.334259",
     "status": "completed"
    },
    "tags": []
   },
   "source": [
    "### Batsmen"
   ]
  },
  {
   "cell_type": "markdown",
   "metadata": {
    "id": "bZo83Ps0T3bD",
    "papermill": {
     "duration": 0.044699,
     "end_time": "2022-11-06T09:43:27.472092",
     "exception": false,
     "start_time": "2022-11-06T09:43:27.427393",
     "status": "completed"
    },
    "tags": []
   },
   "source": [
    "> *strike_rate = runs per 100 balls faced*"
   ]
  },
  {
   "cell_type": "code",
   "execution_count": 12,
   "metadata": {
    "execution": {
     "iopub.execute_input": "2022-11-06T09:43:27.575060Z",
     "iopub.status.busy": "2022-11-06T09:43:27.574348Z",
     "iopub.status.idle": "2022-11-06T09:43:28.236490Z",
     "shell.execute_reply": "2022-11-06T09:43:28.235857Z",
     "shell.execute_reply.started": "2022-11-05T14:22:23.571549Z"
    },
    "executionInfo": {
     "elapsed": 2959,
     "status": "ok",
     "timestamp": 1596356836710,
     "user": {
      "displayName": "RUCHI BHATIA",
      "photoUrl": "",
      "userId": "04469733066996764193"
     },
     "user_tz": -330
    },
    "id": "1dH7kCK12sKU",
    "papermill": {
     "duration": 0.716261,
     "end_time": "2022-11-06T09:43:28.236622",
     "exception": false,
     "start_time": "2022-11-06T09:43:27.520361",
     "status": "completed"
    },
    "tags": []
   },
   "outputs": [],
   "source": [
    "batsmen_runs = []\n",
    "batsmen_ballsFaced = []\n",
    "\n",
    "for i in runs[\"Striker_Id\"].unique():\n",
    "    r = runs[\"Batsman_Scored\"][runs[\"Striker_Id\"] == i].sum()\n",
    "    b = runs[\"Match_Id\"][runs[\"Striker_Id\"] == i].count()\n",
    "    batsmen_runs.append(r)\n",
    "    batsmen_ballsFaced.append(b)\n",
    "\n",
    "batsmen = pd.DataFrame({\"Player_Id\": runs[\"Striker_Id\"].unique()})\n",
    "\n",
    "batsmen[\"Runs\"] = batsmen_runs\n",
    "batsmen[\"Balls_played\"] = batsmen_ballsFaced\n",
    "\n",
    "batsmen[\"Strike_Rate\"] = (batsmen[\"Runs\"] * 100 / batsmen[\"Balls_played\"]).round(2)"
   ]
  },
  {
   "cell_type": "code",
   "execution_count": 13,
   "metadata": {
    "execution": {
     "iopub.execute_input": "2022-11-06T09:43:28.338557Z",
     "iopub.status.busy": "2022-11-06T09:43:28.337553Z",
     "iopub.status.idle": "2022-11-06T09:43:28.342013Z",
     "shell.execute_reply": "2022-11-06T09:43:28.341455Z",
     "shell.execute_reply.started": "2022-11-05T14:22:24.046878Z"
    },
    "papermill": {
     "duration": 0.059822,
     "end_time": "2022-11-06T09:43:28.342143",
     "exception": false,
     "start_time": "2022-11-06T09:43:28.282321",
     "status": "completed"
    },
    "tags": []
   },
   "outputs": [
    {
     "data": {
      "text/html": [
       "<div>\n",
       "<style scoped>\n",
       "    .dataframe tbody tr th:only-of-type {\n",
       "        vertical-align: middle;\n",
       "    }\n",
       "\n",
       "    .dataframe tbody tr th {\n",
       "        vertical-align: top;\n",
       "    }\n",
       "\n",
       "    .dataframe thead th {\n",
       "        text-align: right;\n",
       "    }\n",
       "</style>\n",
       "<table border=\"1\" class=\"dataframe\">\n",
       "  <thead>\n",
       "    <tr style=\"text-align: right;\">\n",
       "      <th></th>\n",
       "      <th>Player_Id</th>\n",
       "      <th>Runs</th>\n",
       "      <th>Balls_played</th>\n",
       "      <th>Strike_Rate</th>\n",
       "    </tr>\n",
       "  </thead>\n",
       "  <tbody>\n",
       "    <tr>\n",
       "      <th>0</th>\n",
       "      <td>1</td>\n",
       "      <td>1349.0</td>\n",
       "      <td>1326</td>\n",
       "      <td>101.73</td>\n",
       "    </tr>\n",
       "    <tr>\n",
       "      <th>1</th>\n",
       "      <td>2</td>\n",
       "      <td>2435.0</td>\n",
       "      <td>1954</td>\n",
       "      <td>124.62</td>\n",
       "    </tr>\n",
       "    <tr>\n",
       "      <th>2</th>\n",
       "      <td>3</td>\n",
       "      <td>91.0</td>\n",
       "      <td>129</td>\n",
       "      <td>70.54</td>\n",
       "    </tr>\n",
       "    <tr>\n",
       "      <th>3</th>\n",
       "      <td>4</td>\n",
       "      <td>1322.0</td>\n",
       "      <td>1101</td>\n",
       "      <td>120.07</td>\n",
       "    </tr>\n",
       "    <tr>\n",
       "      <th>4</th>\n",
       "      <td>5</td>\n",
       "      <td>64.0</td>\n",
       "      <td>84</td>\n",
       "      <td>76.19</td>\n",
       "    </tr>\n",
       "  </tbody>\n",
       "</table>\n",
       "</div>"
      ],
      "text/plain": [
       "   Player_Id    Runs  Balls_played  Strike_Rate\n",
       "0          1  1349.0          1326       101.73\n",
       "1          2  2435.0          1954       124.62\n",
       "2          3    91.0           129        70.54\n",
       "3          4  1322.0          1101       120.07\n",
       "4          5    64.0            84        76.19"
      ]
     },
     "execution_count": 13,
     "metadata": {},
     "output_type": "execute_result"
    }
   ],
   "source": [
    "batsmen.head(5)"
   ]
  },
  {
   "cell_type": "code",
   "execution_count": 14,
   "metadata": {
    "execution": {
     "iopub.execute_input": "2022-11-06T09:43:28.442004Z",
     "iopub.status.busy": "2022-11-06T09:43:28.440863Z",
     "iopub.status.idle": "2022-11-06T09:43:28.444249Z",
     "shell.execute_reply": "2022-11-06T09:43:28.443561Z",
     "shell.execute_reply.started": "2022-11-05T14:22:24.057411Z"
    },
    "papermill": {
     "duration": 0.057082,
     "end_time": "2022-11-06T09:43:28.444377",
     "exception": false,
     "start_time": "2022-11-06T09:43:28.387295",
     "status": "completed"
    },
    "tags": []
   },
   "outputs": [],
   "source": [
    "def triple_plot(x, title,c):\n",
    "    fig, ax = plt.subplots(3,1,figsize=(20,12),sharex=True)\n",
    "    sns.distplot(x, ax=ax[0],color=c)\n",
    "    ax[0].set(xlabel=None)\n",
    "    ax[0].set_title('Histogram + KDE')\n",
    "    sns.boxplot(x, ax=ax[1],color=c)\n",
    "    ax[1].set(xlabel=None)\n",
    "    ax[1].set_title('Boxplot')\n",
    "    sns.violinplot(x, ax=ax[2],color=c)\n",
    "    ax[2].set(xlabel=None)\n",
    "    ax[2].set_title('Violin plot')\n",
    "    fig.suptitle(title, fontsize=25)\n",
    "    plt.tight_layout(pad=3.0)\n",
    "    plt.show()"
   ]
  },
  {
   "cell_type": "code",
   "execution_count": 15,
   "metadata": {
    "execution": {
     "iopub.execute_input": "2022-11-06T09:43:28.574114Z",
     "iopub.status.busy": "2022-11-06T09:43:28.570860Z",
     "iopub.status.idle": "2022-11-06T09:43:29.288930Z",
     "shell.execute_reply": "2022-11-06T09:43:29.288335Z",
     "shell.execute_reply.started": "2022-11-05T14:22:24.066391Z"
    },
    "papermill": {
     "duration": 0.794352,
     "end_time": "2022-11-06T09:43:29.289060",
     "exception": false,
     "start_time": "2022-11-06T09:43:28.494708",
     "status": "completed"
    },
    "tags": []
   },
   "outputs": [
    {
     "data": {
      "image/png": "[encoded data removed]",
      "text/plain": [
       "<Figure size 1440x864 with 3 Axes>"
      ]
     },
     "metadata": {
      "needs_background": "light"
     },
     "output_type": "display_data"
    }
   ],
   "source": [
    "triple_plot(batsmen[\"Strike_Rate\"],'Distribution of Strike Rate',custom_colors[0])"
   ]
  },
  {
   "cell_type": "markdown",
   "metadata": {
    "papermill": {
     "duration": 0.047968,
     "end_time": "2022-11-06T09:43:29.384426",
     "exception": false,
     "start_time": "2022-11-06T09:43:29.336458",
     "status": "completed"
    },
    "tags": []
   },
   "source": [
    "*We notice the presence of outliers with the help of the box plot for strike rate.*"
   ]
  },
  {
   "cell_type": "markdown",
   "metadata": {
    "papermill": {
     "duration": 0.046471,
     "end_time": "2022-11-06T09:43:29.478405",
     "exception": false,
     "start_time": "2022-11-06T09:43:29.431934",
     "status": "completed"
    },
    "tags": []
   },
   "source": [
    "*Players with low strike rate are eliminated*"
   ]
  },
  {
   "cell_type": "code",
   "execution_count": 16,
   "metadata": {
    "execution": {
     "iopub.execute_input": "2022-11-06T09:43:29.581305Z",
     "iopub.status.busy": "2022-11-06T09:43:29.580471Z",
     "iopub.status.idle": "2022-11-06T09:43:29.584198Z",
     "shell.execute_reply": "2022-11-06T09:43:29.583544Z",
     "shell.execute_reply.started": "2022-11-05T14:22:24.632829Z"
    },
    "executionInfo": {
     "elapsed": 2950,
     "status": "ok",
     "timestamp": 1596356836711,
     "user": {
      "displayName": "RUCHI BHATIA",
      "photoUrl": "",
      "userId": "04469733066996764193"
     },
     "user_tz": -330
    },
    "id": "ldIj7zQPUaBb",
    "papermill": {
     "duration": 0.057705,
     "end_time": "2022-11-06T09:43:29.584337",
     "exception": false,
     "start_time": "2022-11-06T09:43:29.526632",
     "status": "completed"
    },
    "tags": []
   },
   "outputs": [],
   "source": [
    "batsmen = batsmen[batsmen[\"Strike_Rate\"] > 120]"
   ]
  },
  {
   "cell_type": "code",
   "execution_count": 17,
   "metadata": {
    "execution": {
     "iopub.execute_input": "2022-11-06T09:43:29.689286Z",
     "iopub.status.busy": "2022-11-06T09:43:29.688497Z",
     "iopub.status.idle": "2022-11-06T09:43:29.693375Z",
     "shell.execute_reply": "2022-11-06T09:43:29.692700Z",
     "shell.execute_reply.started": "2022-11-05T14:22:24.640624Z"
    },
    "executionInfo": {
     "elapsed": 2942,
     "status": "ok",
     "timestamp": 1596356836712,
     "user": {
      "displayName": "RUCHI BHATIA",
      "photoUrl": "",
      "userId": "04469733066996764193"
     },
     "user_tz": -330
    },
    "id": "BzHnc5NbrzSm",
    "outputId": "15e42311-c5ad-44b9-de35-f6a70ad470ea",
    "papermill": {
     "duration": 0.061523,
     "end_time": "2022-11-06T09:43:29.693500",
     "exception": false,
     "start_time": "2022-11-06T09:43:29.631977",
     "status": "completed"
    },
    "tags": []
   },
   "outputs": [
    {
     "data": {
      "text/html": [
       "<div>\n",
       "<style scoped>\n",
       "    .dataframe tbody tr th:only-of-type {\n",
       "        vertical-align: middle;\n",
       "    }\n",
       "\n",
       "    .dataframe tbody tr th {\n",
       "        vertical-align: top;\n",
       "    }\n",
       "\n",
       "    .dataframe thead th {\n",
       "        text-align: right;\n",
       "    }\n",
       "</style>\n",
       "<table border=\"1\" class=\"dataframe\">\n",
       "  <thead>\n",
       "    <tr style=\"text-align: right;\">\n",
       "      <th></th>\n",
       "      <th>Player_Id</th>\n",
       "      <th>Runs</th>\n",
       "      <th>Balls_played</th>\n",
       "      <th>Strike_Rate</th>\n",
       "    </tr>\n",
       "  </thead>\n",
       "  <tbody>\n",
       "    <tr>\n",
       "      <th>1</th>\n",
       "      <td>2</td>\n",
       "      <td>2435.0</td>\n",
       "      <td>1954</td>\n",
       "      <td>124.62</td>\n",
       "    </tr>\n",
       "    <tr>\n",
       "      <th>3</th>\n",
       "      <td>4</td>\n",
       "      <td>1322.0</td>\n",
       "      <td>1101</td>\n",
       "      <td>120.07</td>\n",
       "    </tr>\n",
       "    <tr>\n",
       "      <th>7</th>\n",
       "      <td>8</td>\n",
       "      <td>4105.0</td>\n",
       "      <td>3236</td>\n",
       "      <td>126.85</td>\n",
       "    </tr>\n",
       "    <tr>\n",
       "      <th>9</th>\n",
       "      <td>10</td>\n",
       "      <td>971.0</td>\n",
       "      <td>774</td>\n",
       "      <td>125.45</td>\n",
       "    </tr>\n",
       "    <tr>\n",
       "      <th>10</th>\n",
       "      <td>11</td>\n",
       "      <td>394.0</td>\n",
       "      <td>318</td>\n",
       "      <td>123.90</td>\n",
       "    </tr>\n",
       "  </tbody>\n",
       "</table>\n",
       "</div>"
      ],
      "text/plain": [
       "    Player_Id    Runs  Balls_played  Strike_Rate\n",
       "1           2  2435.0          1954       124.62\n",
       "3           4  1322.0          1101       120.07\n",
       "7           8  4105.0          3236       126.85\n",
       "9          10   971.0           774       125.45\n",
       "10         11   394.0           318       123.90"
      ]
     },
     "execution_count": 17,
     "metadata": {},
     "output_type": "execute_result"
    }
   ],
   "source": [
    "batsmen.head()"
   ]
  },
  {
   "cell_type": "code",
   "execution_count": 18,
   "metadata": {
    "execution": {
     "iopub.execute_input": "2022-11-06T09:43:29.800158Z",
     "iopub.status.busy": "2022-11-06T09:43:29.798851Z",
     "iopub.status.idle": "2022-11-06T09:43:30.485703Z",
     "shell.execute_reply": "2022-11-06T09:43:30.485065Z",
     "shell.execute_reply.started": "2022-11-05T14:22:24.655830Z"
    },
    "executionInfo": {
     "elapsed": 3619,
     "status": "ok",
     "timestamp": 1596356837395,
     "user": {
      "displayName": "RUCHI BHATIA",
      "photoUrl": "",
      "userId": "04469733066996764193"
     },
     "user_tz": -330
    },
    "id": "DF1A1XHC2sKZ",
    "outputId": "713c3dde-6f97-43de-ad33-790e37469c42",
    "papermill": {
     "duration": 0.744455,
     "end_time": "2022-11-06T09:43:30.485836",
     "exception": false,
     "start_time": "2022-11-06T09:43:29.741381",
     "status": "completed"
    },
    "tags": []
   },
   "outputs": [
    {
     "data": {
      "image/png": "[encoded data removed]",
      "text/plain": [
       "<Figure size 1440x864 with 3 Axes>"
      ]
     },
     "metadata": {
      "needs_background": "light"
     },
     "output_type": "display_data"
    }
   ],
   "source": [
    "triple_plot(batsmen[\"Strike_Rate\"],'Distribution of Strike Rate',custom_colors[1])"
   ]
  },
  {
   "cell_type": "code",
   "execution_count": 19,
   "metadata": {
    "execution": {
     "iopub.execute_input": "2022-11-06T09:43:30.592526Z",
     "iopub.status.busy": "2022-11-06T09:43:30.591558Z",
     "iopub.status.idle": "2022-11-06T09:43:30.594369Z",
     "shell.execute_reply": "2022-11-06T09:43:30.594983Z",
     "shell.execute_reply.started": "2022-11-05T14:22:25.182045Z"
    },
    "papermill": {
     "duration": 0.059504,
     "end_time": "2022-11-06T09:43:30.595144",
     "exception": false,
     "start_time": "2022-11-06T09:43:30.535640",
     "status": "completed"
    },
    "tags": []
   },
   "outputs": [],
   "source": [
    "def scatter_plot(data,title,c,col1,col2):\n",
    "    fig = plt.figure(figsize=(12,6))\n",
    "    sns.scatterplot(x=col1, y=col2, data=data,color=c)\n",
    "    plt.title(title)\n",
    "    plt.show()"
   ]
  },
  {
   "cell_type": "markdown",
   "metadata": {
    "id": "96vlEl8u2sKc",
    "papermill": {
     "duration": 0.048191,
     "end_time": "2022-11-06T09:43:30.692645",
     "exception": false,
     "start_time": "2022-11-06T09:43:30.644454",
     "status": "completed"
    },
    "tags": []
   },
   "source": [
    "### K Means Clustering on Batsmen Data "
   ]
  },
  {
   "cell_type": "code",
   "execution_count": 20,
   "metadata": {
    "execution": {
     "iopub.execute_input": "2022-11-06T09:43:30.804489Z",
     "iopub.status.busy": "2022-11-06T09:43:30.803481Z",
     "iopub.status.idle": "2022-11-06T09:43:30.807175Z",
     "shell.execute_reply": "2022-11-06T09:43:30.806497Z",
     "shell.execute_reply.started": "2022-11-05T14:22:25.187813Z"
    },
    "papermill": {
     "duration": 0.065804,
     "end_time": "2022-11-06T09:43:30.807302",
     "exception": false,
     "start_time": "2022-11-06T09:43:30.741498",
     "status": "completed"
    },
    "tags": []
   },
   "outputs": [],
   "source": [
    "def elbow_method(X):\n",
    "    distortions = [] \n",
    "    inertias = [] \n",
    "    mapping1 = {} \n",
    "    mapping2 = {} \n",
    "    K = range(2,10) \n",
    "\n",
    "    for k in K:  \n",
    "        kmeans = KMeans(n_clusters=k)\n",
    "        kmeans.fit(X)     \n",
    "\n",
    "        distortions.append(sum(np.min(cdist(X, kmeans.cluster_centers_, \n",
    "                          'euclidean'),axis=1)) / X.shape[0]) \n",
    "        inertias.append(kmeans.inertia_) \n",
    "\n",
    "        mapping1[k] = sum(np.min(cdist(X, kmeans.cluster_centers_, \n",
    "                     'euclidean'),axis=1)) / X.shape[0] \n",
    "        mapping2[k] = kmeans.inertia_ \n",
    "\n",
    "    print(\"Distortion\")\n",
    "    for key,val in mapping1.items(): \n",
    "        print(str(key)+' : '+str(val)) \n",
    "\n",
    "    print(\"Inertia\")\n",
    "    for key,val in mapping2.items(): \n",
    "        print(str(key)+' : '+str(val)) \n",
    "\n",
    "    plt.plot(K, distortions, 'bx-',color=custom_colors[3]) \n",
    "    plt.xlabel('Values of K') \n",
    "    plt.ylabel('Distortion') \n",
    "    plt.xticks(K)\n",
    "    plt.title('Elbow Method using Distortion') \n",
    "    plt.show() \n",
    "\n",
    "    plt.plot(K, inertias, 'bx-',color=custom_colors[4]) \n",
    "    plt.xlabel('Values of K') \n",
    "    plt.ylabel('Inertia') \n",
    "    plt.xticks(K)\n",
    "    plt.title('Elbow Method using Inertia') \n",
    "    plt.show() "
   ]
  },
  {
   "cell_type": "code",
   "execution_count": 21,
   "metadata": {
    "execution": {
     "iopub.execute_input": "2022-11-06T09:43:30.918872Z",
     "iopub.status.busy": "2022-11-06T09:43:30.916958Z",
     "iopub.status.idle": "2022-11-06T09:43:31.471790Z",
     "shell.execute_reply": "2022-11-06T09:43:31.471225Z",
     "shell.execute_reply.started": "2022-11-05T14:22:25.200251Z"
    },
    "papermill": {
     "duration": 0.615397,
     "end_time": "2022-11-06T09:43:31.471928",
     "exception": false,
     "start_time": "2022-11-06T09:43:30.856531",
     "status": "completed"
    },
    "tags": []
   },
   "outputs": [
    {
     "name": "stdout",
     "output_type": "stream",
     "text": [
      "Distortion\n",
      "2 : 373.7675670507112\n",
      "3 : 220.55246141798668\n",
      "4 : 161.56215104490275\n",
      "5 : 128.79189157004683\n",
      "6 : 105.18459997805162\n",
      "7 : 92.56098674557762\n",
      "8 : 82.68223677986197\n",
      "9 : 68.68341536344919\n",
      "Inertia\n",
      "2 : 27964964.465512753\n",
      "3 : 13873508.04033103\n",
      "4 : 5512937.505840904\n",
      "5 : 3505558.5424463726\n",
      "6 : 2707068.468549997\n",
      "7 : 1910696.9009444402\n",
      "8 : 1282211.1909693487\n",
      "9 : 906374.8747559212\n"
     ]
    },
    {
     "data": {
      "image/png": "[encoded data removed]",
      "text/plain": [
       "<Figure size 432x288 with 1 Axes>"
      ]
     },
     "metadata": {
      "needs_background": "light"
     },
     "output_type": "display_data"
    },
    {
     "data": {
      "image/png": "[encoded data removed]",
      "text/plain": [
       "<Figure size 432x288 with 1 Axes>"
      ]
     },
     "metadata": {
      "needs_background": "light"
     },
     "output_type": "display_data"
    }
   ],
   "source": [
    "elbow_method(batsmen[[\"Strike_Rate\", \"Runs\"]])"
   ]
  },
  {
   "cell_type": "code",
   "execution_count": 22,
   "metadata": {
    "execution": {
     "iopub.execute_input": "2022-11-06T09:43:31.584924Z",
     "iopub.status.busy": "2022-11-06T09:43:31.583862Z",
     "iopub.status.idle": "2022-11-06T09:43:31.587771Z",
     "shell.execute_reply": "2022-11-06T09:43:31.587154Z",
     "shell.execute_reply.started": "2022-11-05T14:22:25.609231Z"
    },
    "papermill": {
     "duration": 0.06405,
     "end_time": "2022-11-06T09:43:31.587899",
     "exception": false,
     "start_time": "2022-11-06T09:43:31.523849",
     "status": "completed"
    },
    "tags": []
   },
   "outputs": [],
   "source": [
    "def scores(X):\n",
    "    K = range(3,8) \n",
    "\n",
    "    for k in K:  \n",
    "        kmeans = KMeans(n_clusters=k)\n",
    "        kmeans.fit(X) \n",
    "        y_hat = kmeans.predict(X)\n",
    "        labels = kmeans.labels_\n",
    "        \n",
    "        a = metrics.silhouette_score(X, labels, metric = 'euclidean')\n",
    "        b = metrics.calinski_harabasz_score(X, labels)\n",
    "        \n",
    "        print(\"k={0}, Silhouette score={1}, Calinski harabasz score={2}\".format(k,a, b))"
   ]
  },
  {
   "cell_type": "code",
   "execution_count": 23,
   "metadata": {
    "execution": {
     "iopub.execute_input": "2022-11-06T09:43:31.701778Z",
     "iopub.status.busy": "2022-11-06T09:43:31.699626Z",
     "iopub.status.idle": "2022-11-06T09:43:31.918799Z",
     "shell.execute_reply": "2022-11-06T09:43:31.916777Z",
     "shell.execute_reply.started": "2022-11-05T14:22:25.615840Z"
    },
    "papermill": {
     "duration": 0.279099,
     "end_time": "2022-11-06T09:43:31.918977",
     "exception": false,
     "start_time": "2022-11-06T09:43:31.639878",
     "status": "completed"
    },
    "tags": []
   },
   "outputs": [
    {
     "name": "stdout",
     "output_type": "stream",
     "text": [
      "k=3, Silhouette score=0.6936083344492991, Calinski harabasz score=609.1041885568557\n",
      "k=4, Silhouette score=0.7153226890295874, Calinski harabasz score=1079.804486795056\n",
      "k=5, Silhouette score=0.6643845661980747, Calinski harabasz score=1282.26794241417\n",
      "k=6, Silhouette score=0.635199608948108, Calinski harabasz score=1325.6470180841923\n",
      "k=7, Silhouette score=0.6336067778587674, Calinski harabasz score=1561.7377647734515\n"
     ]
    }
   ],
   "source": [
    "scores(batsmen[[\"Strike_Rate\", \"Runs\"]])"
   ]
  },
  {
   "cell_type": "code",
   "execution_count": 24,
   "metadata": {
    "execution": {
     "iopub.execute_input": "2022-11-06T09:43:32.042459Z",
     "iopub.status.busy": "2022-11-06T09:43:32.041374Z",
     "iopub.status.idle": "2022-11-06T09:43:32.257454Z",
     "shell.execute_reply": "2022-11-06T09:43:32.258087Z",
     "shell.execute_reply.started": "2022-11-05T14:22:25.779967Z"
    },
    "executionInfo": {
     "elapsed": 4508,
     "status": "ok",
     "timestamp": 1596356838299,
     "user": {
      "displayName": "RUCHI BHATIA",
      "photoUrl": "",
      "userId": "04469733066996764193"
     },
     "user_tz": -330
    },
    "id": "3WBox7ln2sKi",
    "outputId": "67bd8c62-4fea-4300-9eeb-f9d202e281b6",
    "papermill": {
     "duration": 0.286616,
     "end_time": "2022-11-06T09:43:32.258245",
     "exception": false,
     "start_time": "2022-11-06T09:43:31.971629",
     "status": "completed"
    },
    "tags": []
   },
   "outputs": [
    {
     "data": {
      "image/png": "[encoded data removed]",
      "text/plain": [
       "<Figure size 864x432 with 1 Axes>"
      ]
     },
     "metadata": {
      "needs_background": "light"
     },
     "output_type": "display_data"
    }
   ],
   "source": [
    "kmeans = KMeans(n_clusters=4)\n",
    "kmeans.fit(batsmen[[\"Strike_Rate\", \"Runs\"]])\n",
    "batsmen[\"cluster\"] = kmeans.labels_\n",
    "\n",
    "fig = plt.figure(figsize=(12,6))\n",
    "\n",
    "colors = custom_colors\n",
    "\n",
    "for r in range(1,6):\n",
    "    clustered_Batsmen = batsmen[batsmen[\"cluster\"] == r]\n",
    "    plt.scatter(clustered_Batsmen[\"Strike_Rate\"], clustered_Batsmen[\"Runs\"], color=colors[r-1])\n",
    "    \n",
    "plt.title(\"IPL Batsmen\")\n",
    "plt.xlabel(\"Strike Rate of the Batsmen\")\n",
    "plt.ylabel(\"Runs scored by the Batsmen\")\n",
    "plt.show()"
   ]
  },
  {
   "cell_type": "code",
   "execution_count": 25,
   "metadata": {
    "execution": {
     "iopub.execute_input": "2022-11-06T09:43:32.368998Z",
     "iopub.status.busy": "2022-11-06T09:43:32.367949Z",
     "iopub.status.idle": "2022-11-06T09:43:32.373345Z",
     "shell.execute_reply": "2022-11-06T09:43:32.373970Z",
     "shell.execute_reply.started": "2022-11-05T14:22:26.014699Z"
    },
    "executionInfo": {
     "elapsed": 4502,
     "status": "ok",
     "timestamp": 1596356838300,
     "user": {
      "displayName": "RUCHI BHATIA",
      "photoUrl": "",
      "userId": "04469733066996764193"
     },
     "user_tz": -330
    },
    "id": "GIKcJx_l2sKm",
    "outputId": "baf3eb8a-d5e8-488b-caa3-f52546ae4303",
    "papermill": {
     "duration": 0.063433,
     "end_time": "2022-11-06T09:43:32.374131",
     "exception": false,
     "start_time": "2022-11-06T09:43:32.310698",
     "status": "completed"
    },
    "tags": []
   },
   "outputs": [],
   "source": [
    "batsmen = batsmen.sort_values(by='cluster')"
   ]
  },
  {
   "cell_type": "code",
   "execution_count": 26,
   "metadata": {
    "execution": {
     "iopub.execute_input": "2022-11-06T09:43:32.486117Z",
     "iopub.status.busy": "2022-11-06T09:43:32.485094Z",
     "iopub.status.idle": "2022-11-06T09:43:32.492151Z",
     "shell.execute_reply": "2022-11-06T09:43:32.491542Z",
     "shell.execute_reply.started": "2022-11-05T14:22:26.020040Z"
    },
    "executionInfo": {
     "elapsed": 4497,
     "status": "ok",
     "timestamp": 1596356838300,
     "user": {
      "displayName": "RUCHI BHATIA",
      "photoUrl": "",
      "userId": "04469733066996764193"
     },
     "user_tz": -330
    },
    "id": "ECtB5wqnLWQr",
    "papermill": {
     "duration": 0.064289,
     "end_time": "2022-11-06T09:43:32.492283",
     "exception": false,
     "start_time": "2022-11-06T09:43:32.427994",
     "status": "completed"
    },
    "tags": []
   },
   "outputs": [],
   "source": [
    "Players_batsmen = players[[\"Player_Id\", \"Player_Name\",\"Batting_Hand\",\"DOB\",\"Country\"]]"
   ]
  },
  {
   "cell_type": "markdown",
   "metadata": {
    "id": "UKuV3Cs8X4cI",
    "papermill": {
     "duration": 0.054423,
     "end_time": "2022-11-06T09:43:32.600554",
     "exception": false,
     "start_time": "2022-11-06T09:43:32.546131",
     "status": "completed"
    },
    "tags": []
   },
   "source": [
    "Displaying the Batting Hand of Batsmen"
   ]
  },
  {
   "cell_type": "code",
   "execution_count": 27,
   "metadata": {
    "execution": {
     "iopub.execute_input": "2022-11-06T09:43:32.783099Z",
     "iopub.status.busy": "2022-11-06T09:43:32.773151Z",
     "iopub.status.idle": "2022-11-06T09:43:32.803256Z",
     "shell.execute_reply": "2022-11-06T09:43:32.802660Z",
     "shell.execute_reply.started": "2022-11-05T14:22:26.031035Z"
    },
    "executionInfo": {
     "elapsed": 4487,
     "status": "ok",
     "timestamp": 1596356838301,
     "user": {
      "displayName": "RUCHI BHATIA",
      "photoUrl": "",
      "userId": "04469733066996764193"
     },
     "user_tz": -330
    },
    "id": "letjLnJ0BM5f",
    "outputId": "00821e12-9925-44d9-cb63-2021de4ff3d3",
    "papermill": {
     "duration": 0.149444,
     "end_time": "2022-11-06T09:43:32.803379",
     "exception": false,
     "start_time": "2022-11-06T09:43:32.653935",
     "status": "completed"
    },
    "tags": []
   },
   "outputs": [
    {
     "data": {
      "text/html": [
       "<div>\n",
       "<style scoped>\n",
       "    .dataframe tbody tr th:only-of-type {\n",
       "        vertical-align: middle;\n",
       "    }\n",
       "\n",
       "    .dataframe tbody tr th {\n",
       "        vertical-align: top;\n",
       "    }\n",
       "\n",
       "    .dataframe thead th {\n",
       "        text-align: right;\n",
       "    }\n",
       "</style>\n",
       "<table border=\"1\" class=\"dataframe\">\n",
       "  <thead>\n",
       "    <tr style=\"text-align: right;\">\n",
       "      <th></th>\n",
       "      <th>Player_Id</th>\n",
       "      <th>Runs</th>\n",
       "      <th>Balls_played</th>\n",
       "      <th>Strike_Rate</th>\n",
       "      <th>cluster</th>\n",
       "      <th>Player_Name</th>\n",
       "      <th>Batting_Hand</th>\n",
       "      <th>DOB</th>\n",
       "      <th>Country</th>\n",
       "    </tr>\n",
       "  </thead>\n",
       "  <tbody>\n",
       "    <tr>\n",
       "      <th>0</th>\n",
       "      <td>57</td>\n",
       "      <td>3874.0</td>\n",
       "      <td>2996</td>\n",
       "      <td>129.31</td>\n",
       "      <td>0</td>\n",
       "      <td>RG Sharma</td>\n",
       "      <td>Right_Hand</td>\n",
       "      <td>30-Apr-87</td>\n",
       "      <td>India</td>\n",
       "    </tr>\n",
       "    <tr>\n",
       "      <th>1</th>\n",
       "      <td>162</td>\n",
       "      <td>3447.0</td>\n",
       "      <td>2360</td>\n",
       "      <td>146.06</td>\n",
       "      <td>0</td>\n",
       "      <td>CH Gayle</td>\n",
       "      <td>Left_Hand</td>\n",
       "      <td>21-Sep-79</td>\n",
       "      <td>West Indies</td>\n",
       "    </tr>\n",
       "    <tr>\n",
       "      <th>2</th>\n",
       "      <td>8</td>\n",
       "      <td>4105.0</td>\n",
       "      <td>3236</td>\n",
       "      <td>126.85</td>\n",
       "      <td>0</td>\n",
       "      <td>V Kohli</td>\n",
       "      <td>Right_Hand</td>\n",
       "      <td>5-Nov-88</td>\n",
       "      <td>India</td>\n",
       "    </tr>\n",
       "    <tr>\n",
       "      <th>3</th>\n",
       "      <td>187</td>\n",
       "      <td>3373.0</td>\n",
       "      <td>2440</td>\n",
       "      <td>138.24</td>\n",
       "      <td>0</td>\n",
       "      <td>DA Warner</td>\n",
       "      <td>Left_Hand</td>\n",
       "      <td>27-Oct-86</td>\n",
       "      <td>Australia</td>\n",
       "    </tr>\n",
       "    <tr>\n",
       "      <th>4</th>\n",
       "      <td>20</td>\n",
       "      <td>3270.0</td>\n",
       "      <td>2419</td>\n",
       "      <td>135.18</td>\n",
       "      <td>0</td>\n",
       "      <td>MS Dhoni</td>\n",
       "      <td>Right_Hand</td>\n",
       "      <td>7-Jul-81</td>\n",
       "      <td>India</td>\n",
       "    </tr>\n",
       "    <tr>\n",
       "      <th>...</th>\n",
       "      <td>...</td>\n",
       "      <td>...</td>\n",
       "      <td>...</td>\n",
       "      <td>...</td>\n",
       "      <td>...</td>\n",
       "      <td>...</td>\n",
       "      <td>...</td>\n",
       "      <td>...</td>\n",
       "      <td>...</td>\n",
       "    </tr>\n",
       "    <tr>\n",
       "      <th>129</th>\n",
       "      <td>100</td>\n",
       "      <td>2225.0</td>\n",
       "      <td>1715</td>\n",
       "      <td>129.74</td>\n",
       "      <td>3</td>\n",
       "      <td>SE Marsh</td>\n",
       "      <td>Left_Hand</td>\n",
       "      <td>9-Jul-83</td>\n",
       "      <td>Australia</td>\n",
       "    </tr>\n",
       "    <tr>\n",
       "      <th>130</th>\n",
       "      <td>185</td>\n",
       "      <td>2511.0</td>\n",
       "      <td>2092</td>\n",
       "      <td>120.03</td>\n",
       "      <td>3</td>\n",
       "      <td>M Vijay</td>\n",
       "      <td>Right_Hand</td>\n",
       "      <td>1-Apr-84</td>\n",
       "      <td>India</td>\n",
       "    </tr>\n",
       "    <tr>\n",
       "      <th>131</th>\n",
       "      <td>147</td>\n",
       "      <td>2146.0</td>\n",
       "      <td>1645</td>\n",
       "      <td>130.46</td>\n",
       "      <td>3</td>\n",
       "      <td>DR Smith</td>\n",
       "      <td>Right_Hand</td>\n",
       "      <td>12-Apr-83</td>\n",
       "      <td>West Indies</td>\n",
       "    </tr>\n",
       "    <tr>\n",
       "      <th>132</th>\n",
       "      <td>41</td>\n",
       "      <td>2728.0</td>\n",
       "      <td>1833</td>\n",
       "      <td>148.83</td>\n",
       "      <td>3</td>\n",
       "      <td>V Sehwag</td>\n",
       "      <td>Right_Hand</td>\n",
       "      <td>20-Oct-78</td>\n",
       "      <td>India</td>\n",
       "    </tr>\n",
       "    <tr>\n",
       "      <th>133</th>\n",
       "      <td>2</td>\n",
       "      <td>2435.0</td>\n",
       "      <td>1954</td>\n",
       "      <td>124.62</td>\n",
       "      <td>3</td>\n",
       "      <td>BB McCullum</td>\n",
       "      <td>Right_Hand</td>\n",
       "      <td>27-Sep-81</td>\n",
       "      <td>New Zealand</td>\n",
       "    </tr>\n",
       "  </tbody>\n",
       "</table>\n",
       "<p>134 rows × 9 columns</p>\n",
       "</div>"
      ],
      "text/plain": [
       "     Player_Id    Runs  Balls_played  Strike_Rate  cluster  Player_Name  \\\n",
       "0           57  3874.0          2996       129.31        0    RG Sharma   \n",
       "1          162  3447.0          2360       146.06        0     CH Gayle   \n",
       "2            8  4105.0          3236       126.85        0      V Kohli   \n",
       "3          187  3373.0          2440       138.24        0    DA Warner   \n",
       "4           20  3270.0          2419       135.18        0     MS Dhoni   \n",
       "..         ...     ...           ...          ...      ...          ...   \n",
       "129        100  2225.0          1715       129.74        3     SE Marsh   \n",
       "130        185  2511.0          2092       120.03        3      M Vijay   \n",
       "131        147  2146.0          1645       130.46        3     DR Smith   \n",
       "132         41  2728.0          1833       148.83        3     V Sehwag   \n",
       "133          2  2435.0          1954       124.62        3  BB McCullum   \n",
       "\n",
       "    Batting_Hand        DOB      Country  \n",
       "0     Right_Hand  30-Apr-87        India  \n",
       "1      Left_Hand  21-Sep-79  West Indies  \n",
       "2     Right_Hand   5-Nov-88        India  \n",
       "3      Left_Hand  27-Oct-86    Australia  \n",
       "4     Right_Hand   7-Jul-81        India  \n",
       "..           ...        ...          ...  \n",
       "129    Left_Hand   9-Jul-83    Australia  \n",
       "130   Right_Hand   1-Apr-84        India  \n",
       "131   Right_Hand  12-Apr-83  West Indies  \n",
       "132   Right_Hand  20-Oct-78        India  \n",
       "133   Right_Hand  27-Sep-81  New Zealand  \n",
       "\n",
       "[134 rows x 9 columns]"
      ]
     },
     "execution_count": 27,
     "metadata": {},
     "output_type": "execute_result"
    }
   ],
   "source": [
    "batsmen = batsmen[batsmen.columns].merge(Players_batsmen, \"left\")\n",
    "batsmen"
   ]
  },
  {
   "cell_type": "markdown",
   "metadata": {
    "id": "R0sIAEk01Cig",
    "papermill": {
     "duration": 0.056758,
     "end_time": "2022-11-06T09:43:32.914633",
     "exception": false,
     "start_time": "2022-11-06T09:43:32.857875",
     "status": "completed"
    },
    "tags": []
   },
   "source": [
    "**Batting Hand and Cluster assigned to players**"
   ]
  },
  {
   "cell_type": "code",
   "execution_count": 28,
   "metadata": {
    "execution": {
     "iopub.execute_input": "2022-11-06T09:43:33.033167Z",
     "iopub.status.busy": "2022-11-06T09:43:33.032160Z",
     "iopub.status.idle": "2022-11-06T09:43:34.163748Z",
     "shell.execute_reply": "2022-11-06T09:43:34.163192Z",
     "shell.execute_reply.started": "2022-11-05T14:22:26.060506Z"
    },
    "papermill": {
     "duration": 1.191612,
     "end_time": "2022-11-06T09:43:34.163932",
     "exception": false,
     "start_time": "2022-11-06T09:43:32.972320",
     "status": "completed"
    },
    "tags": []
   },
   "outputs": [
    {
     "data": {
      "text/html": [
       "        <script type=\"text/javascript\">\n",
       "        window.PlotlyConfig = {MathJaxConfig: 'local'};\n",
       "        if (window.MathJax) {MathJax.Hub.Config({SVG: {font: \"STIX-Web\"}});}\n",
       "        if (typeof require !== 'undefined') {\n",
       "        require.undef(\"plotly\");\n",
       "        requirejs.config({\n",
       "            paths: {\n",
       "                'plotly': ['https://cdn.plot.ly/plotly-latest.min']\n",
       "            }\n",
       "        });\n",
       "        require(['plotly'], function(Plotly) {\n",
       "            window._Plotly = Plotly;\n",
       "        });\n",
       "        }\n",
       "        </script>\n",
       "        "
      ]
     },
     "metadata": {},
     "output_type": "display_data"
    },
    {
     "data": {
      "text/html": [
       "<div>\n",
       "        \n",
       "        \n",
       "            <div id=\"44bac102-4111-4fc3-96eb-c8c91b12aab5\" class=\"plotly-graph-div\" style=\"height:525px; width:100%;\"></div>\n",
       "            <script type=\"text/javascript\">\n",
       "                require([\"plotly\"], function(Plotly) {\n",
       "                    window.PLOTLYENV=window.PLOTLYENV || {};\n",
       "                    \n",
       "                if (document.getElementById(\"44bac102-4111-4fc3-96eb-c8c91b12aab5\")) {\n",
       "                    Plotly.newPlot(\n",
       "                        '44bac102-4111-4fc3-96eb-c8c91b12aab5',\n",
       "                        [{\"branchvalues\": \"total\", \"customdata\": [[0.0], [0.0], [1.0], [1.0], [2.0], [2.0], [3.0], [3.0], [1.25], [1.3936170212765957]], \"domain\": {\"x\": [0.0, 1.0], \"y\": [0.0, 1.0]}, \"hovertemplate\": \"labels=%{label}<br>count=%{value}<br>parent=%{parent}<br>id=%{id}<br>cluster=%{color}<extra></extra>\", \"ids\": [\"Left_Hand/0\", \"Right_Hand/0\", \"Left_Hand/1\", \"Right_Hand/1\", \"Left_Hand/2\", \"Right_Hand/2\", \"Left_Hand/3\", \"Right_Hand/3\", \"Left_Hand\", \"Right_Hand\"], \"labels\": [\"0\", \"0\", \"1\", \"1\", \"2\", \"2\", \"3\", \"3\", \"Left_Hand\", \"Right_Hand\"], \"marker\": {\"coloraxis\": \"coloraxis\", \"colors\": [0.0, 0.0, 1.0, 1.0, 2.0, 2.0, 3.0, 3.0, 1.25, 1.3936170212765957]}, \"name\": \"\", \"parents\": [\"Left_Hand\", \"Right_Hand\", \"Left_Hand\", \"Right_Hand\", \"Left_Hand\", \"Right_Hand\", \"Left_Hand\", \"Right_Hand\", \"\", \"\"], \"type\": \"sunburst\", \"values\": [4, 5, 26, 56, 6, 24, 4, 9, 40, 94]}],\n",
       "                        {\"coloraxis\": {\"colorbar\": {\"title\": {\"text\": \"cluster\"}}, \"colorscale\": [[0.0, \"#0d0887\"], [0.1111111111111111, \"#46039f\"], [0.2222222222222222, \"#7201a8\"], [0.3333333333333333, \"#9c179e\"], [0.4444444444444444, \"#bd3786\"], [0.5555555555555556, \"#d8576b\"], [0.6666666666666666, \"#ed7953\"], [0.7777777777777778, \"#fb9f3a\"], [0.8888888888888888, \"#fdca26\"], [1.0, \"#f0f921\"]]}, \"legend\": {\"tracegroupgap\": 0}, \"margin\": {\"t\": 60}, \"template\": {\"data\": {\"bar\": [{\"error_x\": {\"color\": \"#2a3f5f\"}, \"error_y\": {\"color\": \"#2a3f5f\"}, \"marker\": {\"line\": {\"color\": \"#E5ECF6\", \"width\": 0.5}}, \"type\": \"bar\"}], \"barpolar\": [{\"marker\": {\"line\": {\"color\": \"#E5ECF6\", \"width\": 0.5}}, \"type\": \"barpolar\"}], \"carpet\": [{\"aaxis\": {\"endlinecolor\": \"#2a3f5f\", \"gridcolor\": \"white\", \"linecolor\": \"white\", \"minorgridcolor\": \"white\", \"startlinecolor\": \"#2a3f5f\"}, \"baxis\": {\"endlinecolor\": \"#2a3f5f\", \"gridcolor\": \"white\", \"linecolor\": \"white\", \"minorgridcolor\": \"white\", \"startlinecolor\": \"#2a3f5f\"}, \"type\": \"carpet\"}], \"choropleth\": [{\"colorbar\": {\"outlinewidth\": 0, \"ticks\": \"\"}, \"type\": \"choropleth\"}], \"contour\": [{\"colorbar\": {\"outlinewidth\": 0, \"ticks\": \"\"}, \"colorscale\": [[0.0, \"#0d0887\"], [0.1111111111111111, \"#46039f\"], [0.2222222222222222, \"#7201a8\"], [0.3333333333333333, \"#9c179e\"], [0.4444444444444444, \"#bd3786\"], [0.5555555555555556, \"#d8576b\"], [0.6666666666666666, \"#ed7953\"], [0.7777777777777778, \"#fb9f3a\"], [0.8888888888888888, \"#fdca26\"], [1.0, \"#f0f921\"]], \"type\": \"contour\"}], \"contourcarpet\": [{\"colorbar\": {\"outlinewidth\": 0, \"ticks\": \"\"}, \"type\": \"contourcarpet\"}], \"heatmap\": [{\"colorbar\": {\"outlinewidth\": 0, \"ticks\": \"\"}, \"colorscale\": [[0.0, \"#0d0887\"], [0.1111111111111111, \"#46039f\"], [0.2222222222222222, \"#7201a8\"], [0.3333333333333333, \"#9c179e\"], [0.4444444444444444, \"#bd3786\"], [0.5555555555555556, \"#d8576b\"], [0.6666666666666666, \"#ed7953\"], [0.7777777777777778, \"#fb9f3a\"], [0.8888888888888888, \"#fdca26\"], [1.0, \"#f0f921\"]], \"type\": \"heatmap\"}], \"heatmapgl\": [{\"colorbar\": {\"outlinewidth\": 0, \"ticks\": \"\"}, \"colorscale\": [[0.0, \"#0d0887\"], [0.1111111111111111, \"#46039f\"], [0.2222222222222222, \"#7201a8\"], [0.3333333333333333, \"#9c179e\"], [0.4444444444444444, \"#bd3786\"], [0.5555555555555556, \"#d8576b\"], [0.6666666666666666, \"#ed7953\"], [0.7777777777777778, \"#fb9f3a\"], [0.8888888888888888, \"#fdca26\"], [1.0, \"#f0f921\"]], \"type\": \"heatmapgl\"}], \"histogram\": [{\"marker\": {\"colorbar\": {\"outlinewidth\": 0, \"ticks\": \"\"}}, \"type\": \"histogram\"}], \"histogram2d\": [{\"colorbar\": {\"outlinewidth\": 0, \"ticks\": \"\"}, \"colorscale\": [[0.0, \"#0d0887\"], [0.1111111111111111, \"#46039f\"], [0.2222222222222222, \"#7201a8\"], [0.3333333333333333, \"#9c179e\"], [0.4444444444444444, \"#bd3786\"], [0.5555555555555556, \"#d8576b\"], [0.6666666666666666, \"#ed7953\"], [0.7777777777777778, \"#fb9f3a\"], [0.8888888888888888, \"#fdca26\"], [1.0, \"#f0f921\"]], \"type\": \"histogram2d\"}], \"histogram2dcontour\": [{\"colorbar\": {\"outlinewidth\": 0, \"ticks\": \"\"}, \"colorscale\": [[0.0, \"#0d0887\"], [0.1111111111111111, \"#46039f\"], [0.2222222222222222, \"#7201a8\"], [0.3333333333333333, \"#9c179e\"], [0.4444444444444444, \"#bd3786\"], [0.5555555555555556, \"#d8576b\"], [0.6666666666666666, \"#ed7953\"], [0.7777777777777778, \"#fb9f3a\"], [0.8888888888888888, \"#fdca26\"], [1.0, \"#f0f921\"]], \"type\": \"histogram2dcontour\"}], \"mesh3d\": [{\"colorbar\": {\"outlinewidth\": 0, \"ticks\": \"\"}, \"type\": \"mesh3d\"}], \"parcoords\": [{\"line\": {\"colorbar\": {\"outlinewidth\": 0, \"ticks\": \"\"}}, \"type\": \"parcoords\"}], \"pie\": [{\"automargin\": true, \"type\": \"pie\"}], \"scatter\": [{\"marker\": {\"colorbar\": {\"outlinewidth\": 0, \"ticks\": \"\"}}, \"type\": \"scatter\"}], \"scatter3d\": [{\"line\": {\"colorbar\": {\"outlinewidth\": 0, \"ticks\": \"\"}}, \"marker\": {\"colorbar\": {\"outlinewidth\": 0, \"ticks\": \"\"}}, \"type\": \"scatter3d\"}], \"scattercarpet\": [{\"marker\": {\"colorbar\": {\"outlinewidth\": 0, \"ticks\": \"\"}}, \"type\": \"scattercarpet\"}], \"scattergeo\": [{\"marker\": {\"colorbar\": {\"outlinewidth\": 0, \"ticks\": \"\"}}, \"type\": \"scattergeo\"}], \"scattergl\": [{\"marker\": {\"colorbar\": {\"outlinewidth\": 0, \"ticks\": \"\"}}, \"type\": \"scattergl\"}], \"scattermapbox\": [{\"marker\": {\"colorbar\": {\"outlinewidth\": 0, \"ticks\": \"\"}}, \"type\": \"scattermapbox\"}], \"scatterpolar\": [{\"marker\": {\"colorbar\": {\"outlinewidth\": 0, \"ticks\": \"\"}}, \"type\": \"scatterpolar\"}], \"scatterpolargl\": [{\"marker\": {\"colorbar\": {\"outlinewidth\": 0, \"ticks\": \"\"}}, \"type\": \"scatterpolargl\"}], \"scatterternary\": [{\"marker\": {\"colorbar\": {\"outlinewidth\": 0, \"ticks\": \"\"}}, \"type\": \"scatterternary\"}], \"surface\": [{\"colorbar\": {\"outlinewidth\": 0, \"ticks\": \"\"}, \"colorscale\": [[0.0, \"#0d0887\"], [0.1111111111111111, \"#46039f\"], [0.2222222222222222, \"#7201a8\"], [0.3333333333333333, \"#9c179e\"], [0.4444444444444444, \"#bd3786\"], [0.5555555555555556, \"#d8576b\"], [0.6666666666666666, \"#ed7953\"], [0.7777777777777778, \"#fb9f3a\"], [0.8888888888888888, \"#fdca26\"], [1.0, \"#f0f921\"]], \"type\": \"surface\"}], \"table\": [{\"cells\": {\"fill\": {\"color\": \"#EBF0F8\"}, \"line\": {\"color\": \"white\"}}, \"header\": {\"fill\": {\"color\": \"#C8D4E3\"}, \"line\": {\"color\": \"white\"}}, \"type\": \"table\"}]}, \"layout\": {\"annotationdefaults\": {\"arrowcolor\": \"#2a3f5f\", \"arrowhead\": 0, \"arrowwidth\": 1}, \"coloraxis\": {\"colorbar\": {\"outlinewidth\": 0, \"ticks\": \"\"}}, \"colorscale\": {\"diverging\": [[0, \"#8e0152\"], [0.1, \"#c51b7d\"], [0.2, \"#de77ae\"], [0.3, \"#f1b6da\"], [0.4, \"#fde0ef\"], [0.5, \"#f7f7f7\"], [0.6, \"#e6f5d0\"], [0.7, \"#b8e186\"], [0.8, \"#7fbc41\"], [0.9, \"#4d9221\"], [1, \"#276419\"]], \"sequential\": [[0.0, \"#0d0887\"], [0.1111111111111111, \"#46039f\"], [0.2222222222222222, \"#7201a8\"], [0.3333333333333333, \"#9c179e\"], [0.4444444444444444, \"#bd3786\"], [0.5555555555555556, \"#d8576b\"], [0.6666666666666666, \"#ed7953\"], [0.7777777777777778, \"#fb9f3a\"], [0.8888888888888888, \"#fdca26\"], [1.0, \"#f0f921\"]], \"sequentialminus\": [[0.0, \"#0d0887\"], [0.1111111111111111, \"#46039f\"], [0.2222222222222222, \"#7201a8\"], [0.3333333333333333, \"#9c179e\"], [0.4444444444444444, \"#bd3786\"], [0.5555555555555556, \"#d8576b\"], [0.6666666666666666, \"#ed7953\"], [0.7777777777777778, \"#fb9f3a\"], [0.8888888888888888, \"#fdca26\"], [1.0, \"#f0f921\"]]}, \"colorway\": [\"#636efa\", \"#EF553B\", \"#00cc96\", \"#ab63fa\", \"#FFA15A\", \"#19d3f3\", \"#FF6692\", \"#B6E880\", \"#FF97FF\", \"#FECB52\"], \"font\": {\"color\": \"#2a3f5f\"}, \"geo\": {\"bgcolor\": \"white\", \"lakecolor\": \"white\", \"landcolor\": \"#E5ECF6\", \"showlakes\": true, \"showland\": true, \"subunitcolor\": \"white\"}, \"hoverlabel\": {\"align\": \"left\"}, \"hovermode\": \"closest\", \"mapbox\": {\"style\": \"light\"}, \"paper_bgcolor\": \"white\", \"plot_bgcolor\": \"#E5ECF6\", \"polar\": {\"angularaxis\": {\"gridcolor\": \"white\", \"linecolor\": \"white\", \"ticks\": \"\"}, \"bgcolor\": \"#E5ECF6\", \"radialaxis\": {\"gridcolor\": \"white\", \"linecolor\": \"white\", \"ticks\": \"\"}}, \"scene\": {\"xaxis\": {\"backgroundcolor\": \"#E5ECF6\", \"gridcolor\": \"white\", \"gridwidth\": 2, \"linecolor\": \"white\", \"showbackground\": true, \"ticks\": \"\", \"zerolinecolor\": \"white\"}, \"yaxis\": {\"backgroundcolor\": \"#E5ECF6\", \"gridcolor\": \"white\", \"gridwidth\": 2, \"linecolor\": \"white\", \"showbackground\": true, \"ticks\": \"\", \"zerolinecolor\": \"white\"}, \"zaxis\": {\"backgroundcolor\": \"#E5ECF6\", \"gridcolor\": \"white\", \"gridwidth\": 2, \"linecolor\": \"white\", \"showbackground\": true, \"ticks\": \"\", \"zerolinecolor\": \"white\"}}, \"shapedefaults\": {\"line\": {\"color\": \"#2a3f5f\"}}, \"ternary\": {\"aaxis\": {\"gridcolor\": \"white\", \"linecolor\": \"white\", \"ticks\": \"\"}, \"baxis\": {\"gridcolor\": \"white\", \"linecolor\": \"white\", \"ticks\": \"\"}, \"bgcolor\": \"#E5ECF6\", \"caxis\": {\"gridcolor\": \"white\", \"linecolor\": \"white\", \"ticks\": \"\"}}, \"title\": {\"x\": 0.05}, \"xaxis\": {\"automargin\": true, \"gridcolor\": \"white\", \"linecolor\": \"white\", \"ticks\": \"\", \"title\": {\"standoff\": 15}, \"zerolinecolor\": \"white\", \"zerolinewidth\": 2}, \"yaxis\": {\"automargin\": true, \"gridcolor\": \"white\", \"linecolor\": \"white\", \"ticks\": \"\", \"title\": {\"standoff\": 15}, \"zerolinecolor\": \"white\", \"zerolinewidth\": 2}}}},\n",
       "                        {\"responsive\": true}\n",
       "                    ).then(function(){\n",
       "                            \n",
       "var gd = document.getElementById('44bac102-4111-4fc3-96eb-c8c91b12aab5');\n",
       "var x = new MutationObserver(function (mutations, observer) {{\n",
       "        var display = window.getComputedStyle(gd).display;\n",
       "        if (!display || display === 'none') {{\n",
       "            console.log([gd, 'removed!']);\n",
       "            Plotly.purge(gd);\n",
       "            observer.disconnect();\n",
       "        }}\n",
       "}});\n",
       "\n",
       "// Listen for the removal of the full notebook cells\n",
       "var notebookContainer = gd.closest('#notebook-container');\n",
       "if (notebookContainer) {{\n",
       "    x.observe(notebookContainer, {childList: true});\n",
       "}}\n",
       "\n",
       "// Listen for the clearing of the current output cell\n",
       "var outputEl = gd.closest('.output');\n",
       "if (outputEl) {{\n",
       "    x.observe(outputEl, {childList: true});\n",
       "}}\n",
       "\n",
       "                        })\n",
       "                };\n",
       "                });\n",
       "            </script>\n",
       "        </div>"
      ]
     },
     "metadata": {},
     "output_type": "display_data"
    }
   ],
   "source": [
    "fig = px.sunburst(batsmen, path=['Batting_Hand', 'cluster'],color='cluster')\n",
    "fig.show()"
   ]
  },
  {
   "cell_type": "code",
   "execution_count": 29,
   "metadata": {
    "execution": {
     "iopub.execute_input": "2022-11-06T09:43:34.283262Z",
     "iopub.status.busy": "2022-11-06T09:43:34.282282Z",
     "iopub.status.idle": "2022-11-06T09:43:34.546222Z",
     "shell.execute_reply": "2022-11-06T09:43:34.545492Z",
     "shell.execute_reply.started": "2022-11-05T14:22:26.766570Z"
    },
    "executionInfo": {
     "elapsed": 4462,
     "status": "ok",
     "timestamp": 1596356838302,
     "user": {
      "displayName": "RUCHI BHATIA",
      "photoUrl": "",
      "userId": "04469733066996764193"
     },
     "user_tz": -330
    },
    "id": "RISPy2fXBcdf",
    "papermill": {
     "duration": 0.325224,
     "end_time": "2022-11-06T09:43:34.546351",
     "exception": false,
     "start_time": "2022-11-06T09:43:34.221127",
     "status": "completed"
    },
    "tags": []
   },
   "outputs": [],
   "source": [
    "batsmen.to_csv('/kaggle/working/Batsmen.csv') "
   ]
  },
  {
   "cell_type": "markdown",
   "metadata": {
    "id": "mTHvdWef2sKp",
    "papermill": {
     "duration": 0.055739,
     "end_time": "2022-11-06T09:43:34.659197",
     "exception": false,
     "start_time": "2022-11-06T09:43:34.603458",
     "status": "completed"
    },
    "tags": []
   },
   "source": [
    "### Bowlers"
   ]
  },
  {
   "cell_type": "markdown",
   "metadata": {
    "id": "mOK8X1FBYSUP",
    "papermill": {
     "duration": 0.056088,
     "end_time": "2022-11-06T09:43:34.770607",
     "exception": false,
     "start_time": "2022-11-06T09:43:34.714519",
     "status": "completed"
    },
    "tags": []
   },
   "source": [
    "> economy rate = total runs conceded/number of overs bowled"
   ]
  },
  {
   "cell_type": "code",
   "execution_count": 30,
   "metadata": {
    "execution": {
     "iopub.execute_input": "2022-11-06T09:43:34.895088Z",
     "iopub.status.busy": "2022-11-06T09:43:34.894327Z",
     "iopub.status.idle": "2022-11-06T09:43:35.702014Z",
     "shell.execute_reply": "2022-11-06T09:43:35.702664Z",
     "shell.execute_reply.started": "2022-11-05T14:22:27.110401Z"
    },
    "executionInfo": {
     "elapsed": 4889,
     "status": "ok",
     "timestamp": 1596356838737,
     "user": {
      "displayName": "RUCHI BHATIA",
      "photoUrl": "",
      "userId": "04469733066996764193"
     },
     "user_tz": -330
    },
    "id": "urGjrOOz2sKq",
    "outputId": "4e604384-4daa-42de-ea80-da539f4ef3c5",
    "papermill": {
     "duration": 0.875881,
     "end_time": "2022-11-06T09:43:35.702857",
     "exception": false,
     "start_time": "2022-11-06T09:43:34.826976",
     "status": "completed"
    },
    "tags": []
   },
   "outputs": [
    {
     "data": {
      "text/html": [
       "<div>\n",
       "<style scoped>\n",
       "    .dataframe tbody tr th:only-of-type {\n",
       "        vertical-align: middle;\n",
       "    }\n",
       "\n",
       "    .dataframe tbody tr th {\n",
       "        vertical-align: top;\n",
       "    }\n",
       "\n",
       "    .dataframe thead th {\n",
       "        text-align: right;\n",
       "    }\n",
       "</style>\n",
       "<table border=\"1\" class=\"dataframe\">\n",
       "  <thead>\n",
       "    <tr style=\"text-align: right;\">\n",
       "      <th></th>\n",
       "      <th>Player_Id</th>\n",
       "      <th>Runs</th>\n",
       "      <th>Over_count</th>\n",
       "      <th>Econ_Rate</th>\n",
       "    </tr>\n",
       "  </thead>\n",
       "  <tbody>\n",
       "    <tr>\n",
       "      <th>0</th>\n",
       "      <td>14</td>\n",
       "      <td>3135.0</td>\n",
       "      <td>421.500000</td>\n",
       "      <td>7.44</td>\n",
       "    </tr>\n",
       "    <tr>\n",
       "      <th>1</th>\n",
       "      <td>15</td>\n",
       "      <td>2511.0</td>\n",
       "      <td>338.333333</td>\n",
       "      <td>7.42</td>\n",
       "    </tr>\n",
       "    <tr>\n",
       "      <th>2</th>\n",
       "      <td>13</td>\n",
       "      <td>41.0</td>\n",
       "      <td>4.166667</td>\n",
       "      <td>9.84</td>\n",
       "    </tr>\n",
       "    <tr>\n",
       "      <th>3</th>\n",
       "      <td>9</td>\n",
       "      <td>2316.0</td>\n",
       "      <td>299.833333</td>\n",
       "      <td>7.72</td>\n",
       "    </tr>\n",
       "    <tr>\n",
       "      <th>4</th>\n",
       "      <td>16</td>\n",
       "      <td>82.0</td>\n",
       "      <td>9.166667</td>\n",
       "      <td>8.95</td>\n",
       "    </tr>\n",
       "  </tbody>\n",
       "</table>\n",
       "</div>"
      ],
      "text/plain": [
       "   Player_Id    Runs  Over_count  Econ_Rate\n",
       "0         14  3135.0  421.500000       7.44\n",
       "1         15  2511.0  338.333333       7.42\n",
       "2         13    41.0    4.166667       9.84\n",
       "3          9  2316.0  299.833333       7.72\n",
       "4         16    82.0    9.166667       8.95"
      ]
     },
     "execution_count": 30,
     "metadata": {},
     "output_type": "execute_result"
    }
   ],
   "source": [
    "bowlers_runs = []\n",
    "bowlers_over_count = []\n",
    "\n",
    "for j in runs[\"Bowler_Id\"].unique():\n",
    "    r = runs[\"Batsman_Scored\"][runs[\"Bowler_Id\"] == j].sum() + runs[\"Extra_Runs\"][runs[\"Bowler_Id\"] == j].sum()\n",
    "    o = runs[\"Over_Id\"][runs[\"Bowler_Id\"] == j].count()/6\n",
    "    \n",
    "    bowlers_runs.append(r)\n",
    "    bowlers_over_count.append(o)\n",
    "    \n",
    "bowlers = pd.DataFrame({\"Player_Id\": runs[\"Bowler_Id\"].unique()})\n",
    "\n",
    "bowlers[\"Runs\"] = bowlers_runs\n",
    "bowlers[\"Over_count\"] = bowlers_over_count\n",
    "\n",
    "bowlers[\"Econ_Rate\"] = (bowlers[\"Runs\"] / bowlers[\"Over_count\"]).round(2)\n",
    "\n",
    "bowlers.head()"
   ]
  },
  {
   "cell_type": "code",
   "execution_count": 31,
   "metadata": {
    "execution": {
     "iopub.execute_input": "2022-11-06T09:43:35.830213Z",
     "iopub.status.busy": "2022-11-06T09:43:35.824315Z",
     "iopub.status.idle": "2022-11-06T09:43:36.672916Z",
     "shell.execute_reply": "2022-11-06T09:43:36.673444Z",
     "shell.execute_reply.started": "2022-11-05T14:22:27.664489Z"
    },
    "executionInfo": {
     "elapsed": 5397,
     "status": "ok",
     "timestamp": 1596356839255,
     "user": {
      "displayName": "RUCHI BHATIA",
      "photoUrl": "",
      "userId": "04469733066996764193"
     },
     "user_tz": -330
    },
    "id": "Hphc8wb42sKu",
    "outputId": "0534c0d1-1594-4435-b82a-b2350ffed46e",
    "papermill": {
     "duration": 0.910795,
     "end_time": "2022-11-06T09:43:36.673591",
     "exception": false,
     "start_time": "2022-11-06T09:43:35.762796",
     "status": "completed"
    },
    "tags": []
   },
   "outputs": [
    {
     "data": {
      "image/png": "[encoded data removed]",
      "text/plain": [
       "<Figure size 1440x864 with 3 Axes>"
      ]
     },
     "metadata": {
      "needs_background": "light"
     },
     "output_type": "display_data"
    }
   ],
   "source": [
    "triple_plot(bowlers[\"Econ_Rate\"],'Distribution of Economy Rate',custom_colors[0])"
   ]
  },
  {
   "cell_type": "code",
   "execution_count": 32,
   "metadata": {
    "execution": {
     "iopub.execute_input": "2022-11-06T09:43:36.797166Z",
     "iopub.status.busy": "2022-11-06T09:43:36.796261Z",
     "iopub.status.idle": "2022-11-06T09:43:36.800732Z",
     "shell.execute_reply": "2022-11-06T09:43:36.800153Z",
     "shell.execute_reply.started": "2022-11-05T14:22:28.316768Z"
    },
    "executionInfo": {
     "elapsed": 5387,
     "status": "ok",
     "timestamp": 1596356839256,
     "user": {
      "displayName": "RUCHI BHATIA",
      "photoUrl": "",
      "userId": "04469733066996764193"
     },
     "user_tz": -330
    },
    "id": "MoM9Fhrh2sKx",
    "outputId": "b3bddf09-2c65-4528-e415-00576f7c75f3",
    "papermill": {
     "duration": 0.068274,
     "end_time": "2022-11-06T09:43:36.800860",
     "exception": false,
     "start_time": "2022-11-06T09:43:36.732586",
     "status": "completed"
    },
    "tags": []
   },
   "outputs": [],
   "source": [
    "bowlers = bowlers[(bowlers[\"Econ_Rate\"] > 4) & (bowlers[\"Econ_Rate\"] < 8.5)]"
   ]
  },
  {
   "cell_type": "code",
   "execution_count": 33,
   "metadata": {
    "execution": {
     "iopub.execute_input": "2022-11-06T09:43:36.922022Z",
     "iopub.status.busy": "2022-11-06T09:43:36.921302Z",
     "iopub.status.idle": "2022-11-06T09:43:37.614674Z",
     "shell.execute_reply": "2022-11-06T09:43:37.615306Z",
     "shell.execute_reply.started": "2022-11-05T14:22:28.323506Z"
    },
    "papermill": {
     "duration": 0.756707,
     "end_time": "2022-11-06T09:43:37.615472",
     "exception": false,
     "start_time": "2022-11-06T09:43:36.858765",
     "status": "completed"
    },
    "tags": []
   },
   "outputs": [
    {
     "data": {
      "image/png": "[encoded data removed]",
      "text/plain": [
       "<Figure size 1440x864 with 3 Axes>"
      ]
     },
     "metadata": {
      "needs_background": "light"
     },
     "output_type": "display_data"
    }
   ],
   "source": [
    "triple_plot(bowlers[\"Econ_Rate\"],'Distribution of Economy Rate',custom_colors[1])"
   ]
  },
  {
   "cell_type": "markdown",
   "metadata": {
    "id": "FjWlN-gN2sK0",
    "papermill": {
     "duration": 0.063968,
     "end_time": "2022-11-06T09:43:37.739059",
     "exception": false,
     "start_time": "2022-11-06T09:43:37.675091",
     "status": "completed"
    },
    "tags": []
   },
   "source": [
    "### K Means Clustering on Bowlers Data "
   ]
  },
  {
   "cell_type": "code",
   "execution_count": 34,
   "metadata": {
    "execution": {
     "iopub.execute_input": "2022-11-06T09:43:37.871541Z",
     "iopub.status.busy": "2022-11-06T09:43:37.869299Z",
     "iopub.status.idle": "2022-11-06T09:43:38.396886Z",
     "shell.execute_reply": "2022-11-06T09:43:38.396152Z",
     "shell.execute_reply.started": "2022-11-05T14:22:28.844067Z"
    },
    "papermill": {
     "duration": 0.598106,
     "end_time": "2022-11-06T09:43:38.397019",
     "exception": false,
     "start_time": "2022-11-06T09:43:37.798913",
     "status": "completed"
    },
    "tags": []
   },
   "outputs": [
    {
     "name": "stdout",
     "output_type": "stream",
     "text": [
      "Distortion\n",
      "2 : 373.7675670507112\n",
      "3 : 220.55246141798665\n",
      "4 : 161.56215104490266\n",
      "5 : 128.79189157004683\n",
      "6 : 105.18459997805162\n",
      "7 : 93.11122600712932\n",
      "8 : 82.68223677986197\n",
      "9 : 68.68341536344914\n",
      "Inertia\n",
      "2 : 27964964.465512738\n",
      "3 : 13873508.04033103\n",
      "4 : 5512937.505840903\n",
      "5 : 3505558.5424463735\n",
      "6 : 2707068.4685499966\n",
      "7 : 1918163.7914945153\n",
      "8 : 1282211.1909693482\n",
      "9 : 906374.874755921\n"
     ]
    },
    {
     "data": {
      "image/png": "[encoded data removed]",
      "text/plain": [
       "<Figure size 432x288 with 1 Axes>"
      ]
     },
     "metadata": {
      "needs_background": "light"
     },
     "output_type": "display_data"
    },
    {
     "data": {
      "image/png": "[encoded data removed]",
      "text/plain": [
       "<Figure size 432x288 with 1 Axes>"
      ]
     },
     "metadata": {
      "needs_background": "light"
     },
     "output_type": "display_data"
    }
   ],
   "source": [
    "elbow_method(batsmen[[\"Strike_Rate\", \"Runs\"]])"
   ]
  },
  {
   "cell_type": "code",
   "execution_count": 35,
   "metadata": {
    "execution": {
     "iopub.execute_input": "2022-11-06T09:43:38.533563Z",
     "iopub.status.busy": "2022-11-06T09:43:38.532434Z",
     "iopub.status.idle": "2022-11-06T09:43:38.746664Z",
     "shell.execute_reply": "2022-11-06T09:43:38.746103Z",
     "shell.execute_reply.started": "2022-11-05T14:22:29.238790Z"
    },
    "papermill": {
     "duration": 0.286741,
     "end_time": "2022-11-06T09:43:38.746823",
     "exception": false,
     "start_time": "2022-11-06T09:43:38.460082",
     "status": "completed"
    },
    "tags": []
   },
   "outputs": [
    {
     "name": "stdout",
     "output_type": "stream",
     "text": [
      "k=3, Silhouette score=0.6936083344492991, Calinski harabasz score=609.1041885568558\n",
      "k=4, Silhouette score=0.7153226890295875, Calinski harabasz score=1079.804486795056\n",
      "k=5, Silhouette score=0.6643845661980747, Calinski harabasz score=1282.26794241417\n",
      "k=6, Silhouette score=0.635199608948108, Calinski harabasz score=1325.6470180841923\n",
      "k=7, Silhouette score=0.6336067778587674, Calinski harabasz score=1561.7377647734518\n"
     ]
    }
   ],
   "source": [
    "scores(batsmen[[\"Strike_Rate\", \"Runs\"]])"
   ]
  },
  {
   "cell_type": "code",
   "execution_count": 36,
   "metadata": {
    "execution": {
     "iopub.execute_input": "2022-11-06T09:43:38.886141Z",
     "iopub.status.busy": "2022-11-06T09:43:38.884977Z",
     "iopub.status.idle": "2022-11-06T09:43:39.094049Z",
     "shell.execute_reply": "2022-11-06T09:43:39.093396Z",
     "shell.execute_reply.started": "2022-11-05T14:22:29.396056Z"
    },
    "executionInfo": {
     "elapsed": 7338,
     "status": "ok",
     "timestamp": 1596356841227,
     "user": {
      "displayName": "RUCHI BHATIA",
      "photoUrl": "",
      "userId": "04469733066996764193"
     },
     "user_tz": -330
    },
    "id": "huPmUWDo2sK4",
    "outputId": "0e9b932e-f90a-4f59-d3f9-8a480c782376",
    "papermill": {
     "duration": 0.284838,
     "end_time": "2022-11-06T09:43:39.094183",
     "exception": false,
     "start_time": "2022-11-06T09:43:38.809345",
     "status": "completed"
    },
    "tags": []
   },
   "outputs": [
    {
     "data": {
      "image/png": "[encoded data removed]",
      "text/plain": [
       "<Figure size 864x432 with 1 Axes>"
      ]
     },
     "metadata": {
      "needs_background": "light"
     },
     "output_type": "display_data"
    }
   ],
   "source": [
    "kmeans = KMeans(n_clusters=4)\n",
    "kmeans.fit(bowlers[[\"Econ_Rate\", \"Over_count\"]])\n",
    "bowlers[\"cluster\"] = kmeans.labels_\n",
    "\n",
    "fig = plt.figure(figsize=(12,6))\n",
    "\n",
    "colors = custom_colors\n",
    "\n",
    "for r in range(1,5):\n",
    "    clustered_Bowlers = bowlers[bowlers[\"cluster\"] == r]\n",
    "    plt.scatter(clustered_Bowlers[\"Econ_Rate\"], clustered_Bowlers[\"Over_count\"], color=colors[r-1])\n",
    "    \n",
    "plt.title(\"IPL Bowlers\")\n",
    "plt.xlabel(\"Economy Rate of the Bowler\")\n",
    "plt.ylabel(\"Number of Overs bowled by the Bowler\")\n",
    "    \n",
    "plt.show()"
   ]
  },
  {
   "cell_type": "code",
   "execution_count": 37,
   "metadata": {
    "execution": {
     "iopub.execute_input": "2022-11-06T09:43:39.236798Z",
     "iopub.status.busy": "2022-11-06T09:43:39.235828Z",
     "iopub.status.idle": "2022-11-06T09:43:39.240588Z",
     "shell.execute_reply": "2022-11-06T09:43:39.239957Z",
     "shell.execute_reply.started": "2022-11-05T14:22:29.562310Z"
    },
    "executionInfo": {
     "elapsed": 7330,
     "status": "ok",
     "timestamp": 1596356841228,
     "user": {
      "displayName": "RUCHI BHATIA",
      "photoUrl": "",
      "userId": "04469733066996764193"
     },
     "user_tz": -330
    },
    "id": "nIVGJSai2sK7",
    "outputId": "5cf3a8e7-1199-4aed-c357-ff4875e9c790",
    "papermill": {
     "duration": 0.081352,
     "end_time": "2022-11-06T09:43:39.240706",
     "exception": false,
     "start_time": "2022-11-06T09:43:39.159354",
     "status": "completed"
    },
    "tags": []
   },
   "outputs": [
    {
     "data": {
      "text/html": [
       "<div>\n",
       "<style scoped>\n",
       "    .dataframe tbody tr th:only-of-type {\n",
       "        vertical-align: middle;\n",
       "    }\n",
       "\n",
       "    .dataframe tbody tr th {\n",
       "        vertical-align: top;\n",
       "    }\n",
       "\n",
       "    .dataframe thead th {\n",
       "        text-align: right;\n",
       "    }\n",
       "</style>\n",
       "<table border=\"1\" class=\"dataframe\">\n",
       "  <thead>\n",
       "    <tr style=\"text-align: right;\">\n",
       "      <th></th>\n",
       "      <th>Player_Id</th>\n",
       "      <th>Runs</th>\n",
       "      <th>Over_count</th>\n",
       "      <th>Econ_Rate</th>\n",
       "      <th>cluster</th>\n",
       "    </tr>\n",
       "  </thead>\n",
       "  <tbody>\n",
       "    <tr>\n",
       "      <th>154</th>\n",
       "      <td>219</td>\n",
       "      <td>8.0</td>\n",
       "      <td>1.000000</td>\n",
       "      <td>8.00</td>\n",
       "      <td>0</td>\n",
       "    </tr>\n",
       "    <tr>\n",
       "      <th>185</th>\n",
       "      <td>266</td>\n",
       "      <td>144.0</td>\n",
       "      <td>18.833333</td>\n",
       "      <td>7.65</td>\n",
       "      <td>0</td>\n",
       "    </tr>\n",
       "    <tr>\n",
       "      <th>188</th>\n",
       "      <td>259</td>\n",
       "      <td>130.0</td>\n",
       "      <td>16.166667</td>\n",
       "      <td>8.04</td>\n",
       "      <td>0</td>\n",
       "    </tr>\n",
       "    <tr>\n",
       "      <th>190</th>\n",
       "      <td>274</td>\n",
       "      <td>406.0</td>\n",
       "      <td>54.500000</td>\n",
       "      <td>7.45</td>\n",
       "      <td>0</td>\n",
       "    </tr>\n",
       "    <tr>\n",
       "      <th>192</th>\n",
       "      <td>171</td>\n",
       "      <td>42.0</td>\n",
       "      <td>7.000000</td>\n",
       "      <td>6.00</td>\n",
       "      <td>0</td>\n",
       "    </tr>\n",
       "  </tbody>\n",
       "</table>\n",
       "</div>"
      ],
      "text/plain": [
       "     Player_Id   Runs  Over_count  Econ_Rate  cluster\n",
       "154        219    8.0    1.000000       8.00        0\n",
       "185        266  144.0   18.833333       7.65        0\n",
       "188        259  130.0   16.166667       8.04        0\n",
       "190        274  406.0   54.500000       7.45        0\n",
       "192        171   42.0    7.000000       6.00        0"
      ]
     },
     "execution_count": 37,
     "metadata": {},
     "output_type": "execute_result"
    }
   ],
   "source": [
    "bowlers = bowlers.sort_values(by = 'cluster')\n",
    "bowlers.head()"
   ]
  },
  {
   "cell_type": "code",
   "execution_count": 38,
   "metadata": {
    "execution": {
     "iopub.execute_input": "2022-11-06T09:43:39.376216Z",
     "iopub.status.busy": "2022-11-06T09:43:39.375466Z",
     "iopub.status.idle": "2022-11-06T09:43:39.378278Z",
     "shell.execute_reply": "2022-11-06T09:43:39.378771Z",
     "shell.execute_reply.started": "2022-11-05T14:22:29.574265Z"
    },
    "executionInfo": {
     "elapsed": 7320,
     "status": "ok",
     "timestamp": 1596356841228,
     "user": {
      "displayName": "RUCHI BHATIA",
      "photoUrl": "",
      "userId": "04469733066996764193"
     },
     "user_tz": -330
    },
    "id": "hynpWG-WMEn_",
    "papermill": {
     "duration": 0.073846,
     "end_time": "2022-11-06T09:43:39.378944",
     "exception": false,
     "start_time": "2022-11-06T09:43:39.305098",
     "status": "completed"
    },
    "tags": []
   },
   "outputs": [],
   "source": [
    "Players_bowlers = players[[\"Player_Id\", \"Player_Name\",\"Bowling_Skill\",\"DOB\",\"Country\"]]"
   ]
  },
  {
   "cell_type": "markdown",
   "metadata": {
    "id": "TbTpmPy3cT1u",
    "papermill": {
     "duration": 0.069882,
     "end_time": "2022-11-06T09:43:39.513476",
     "exception": false,
     "start_time": "2022-11-06T09:43:39.443594",
     "status": "completed"
    },
    "tags": []
   },
   "source": [
    "Displaying the Bowling Skill of Batsmen"
   ]
  },
  {
   "cell_type": "code",
   "execution_count": 39,
   "metadata": {
    "execution": {
     "iopub.execute_input": "2022-11-06T09:43:39.699817Z",
     "iopub.status.busy": "2022-11-06T09:43:39.698792Z",
     "iopub.status.idle": "2022-11-06T09:43:39.731712Z",
     "shell.execute_reply": "2022-11-06T09:43:39.730750Z",
     "shell.execute_reply.started": "2022-11-05T14:22:29.581707Z"
    },
    "executionInfo": {
     "elapsed": 7315,
     "status": "ok",
     "timestamp": 1596356841229,
     "user": {
      "displayName": "RUCHI BHATIA",
      "photoUrl": "",
      "userId": "04469733066996764193"
     },
     "user_tz": -330
    },
    "id": "_tPzb1gN2sK-",
    "outputId": "2c064edc-5b22-4f57-8fde-1c9fe35698eb",
    "papermill": {
     "duration": 0.125425,
     "end_time": "2022-11-06T09:43:39.731908",
     "exception": false,
     "start_time": "2022-11-06T09:43:39.606483",
     "status": "completed"
    },
    "tags": []
   },
   "outputs": [
    {
     "data": {
      "text/html": [
       "<div>\n",
       "<style scoped>\n",
       "    .dataframe tbody tr th:only-of-type {\n",
       "        vertical-align: middle;\n",
       "    }\n",
       "\n",
       "    .dataframe tbody tr th {\n",
       "        vertical-align: top;\n",
       "    }\n",
       "\n",
       "    .dataframe thead th {\n",
       "        text-align: right;\n",
       "    }\n",
       "</style>\n",
       "<table border=\"1\" class=\"dataframe\">\n",
       "  <thead>\n",
       "    <tr style=\"text-align: right;\">\n",
       "      <th></th>\n",
       "      <th>Player_Id</th>\n",
       "      <th>Runs</th>\n",
       "      <th>Over_count</th>\n",
       "      <th>Econ_Rate</th>\n",
       "      <th>cluster</th>\n",
       "      <th>Player_Name</th>\n",
       "      <th>Bowling_Skill</th>\n",
       "      <th>DOB</th>\n",
       "      <th>Country</th>\n",
       "    </tr>\n",
       "  </thead>\n",
       "  <tbody>\n",
       "    <tr>\n",
       "      <th>0</th>\n",
       "      <td>219</td>\n",
       "      <td>8.0</td>\n",
       "      <td>1.000000</td>\n",
       "      <td>8.00</td>\n",
       "      <td>0</td>\n",
       "      <td>RS Gavaskar</td>\n",
       "      <td>Slow left-arm orthodox</td>\n",
       "      <td>20-Feb-76</td>\n",
       "      <td>India</td>\n",
       "    </tr>\n",
       "    <tr>\n",
       "      <th>1</th>\n",
       "      <td>266</td>\n",
       "      <td>144.0</td>\n",
       "      <td>18.833333</td>\n",
       "      <td>7.65</td>\n",
       "      <td>0</td>\n",
       "      <td>AL Menaria</td>\n",
       "      <td>Slow left-arm orthodox</td>\n",
       "      <td>29-Oct-90</td>\n",
       "      <td>India</td>\n",
       "    </tr>\n",
       "    <tr>\n",
       "      <th>2</th>\n",
       "      <td>259</td>\n",
       "      <td>130.0</td>\n",
       "      <td>16.166667</td>\n",
       "      <td>8.04</td>\n",
       "      <td>0</td>\n",
       "      <td>RV Gomez</td>\n",
       "      <td>Right-arm medium</td>\n",
       "      <td>16-Oct-85</td>\n",
       "      <td>India</td>\n",
       "    </tr>\n",
       "    <tr>\n",
       "      <th>3</th>\n",
       "      <td>274</td>\n",
       "      <td>406.0</td>\n",
       "      <td>54.500000</td>\n",
       "      <td>7.45</td>\n",
       "      <td>0</td>\n",
       "      <td>AC Thomas</td>\n",
       "      <td>Right-arm fast-medium</td>\n",
       "      <td>9-Feb-77</td>\n",
       "      <td>England</td>\n",
       "    </tr>\n",
       "    <tr>\n",
       "      <th>4</th>\n",
       "      <td>171</td>\n",
       "      <td>42.0</td>\n",
       "      <td>7.000000</td>\n",
       "      <td>6.00</td>\n",
       "      <td>0</td>\n",
       "      <td>M Manhas</td>\n",
       "      <td>Right-arm offbreak</td>\n",
       "      <td>12-Oct-79</td>\n",
       "      <td>India</td>\n",
       "    </tr>\n",
       "    <tr>\n",
       "      <th>...</th>\n",
       "      <td>...</td>\n",
       "      <td>...</td>\n",
       "      <td>...</td>\n",
       "      <td>...</td>\n",
       "      <td>...</td>\n",
       "      <td>...</td>\n",
       "      <td>...</td>\n",
       "      <td>...</td>\n",
       "      <td>...</td>\n",
       "    </tr>\n",
       "    <tr>\n",
       "      <th>209</th>\n",
       "      <td>276</td>\n",
       "      <td>1076.0</td>\n",
       "      <td>154.833333</td>\n",
       "      <td>6.95</td>\n",
       "      <td>3</td>\n",
       "      <td>Shakib Al Hasan</td>\n",
       "      <td>Slow left-arm orthodox</td>\n",
       "      <td>24-Mar-87</td>\n",
       "      <td>Bangladesh</td>\n",
       "    </tr>\n",
       "    <tr>\n",
       "      <th>210</th>\n",
       "      <td>270</td>\n",
       "      <td>779.0</td>\n",
       "      <td>99.666667</td>\n",
       "      <td>7.82</td>\n",
       "      <td>3</td>\n",
       "      <td>S Aravind</td>\n",
       "      <td>Left-arm medium-fast</td>\n",
       "      <td>8-Apr-84</td>\n",
       "      <td>India</td>\n",
       "    </tr>\n",
       "    <tr>\n",
       "      <th>211</th>\n",
       "      <td>21</td>\n",
       "      <td>1029.0</td>\n",
       "      <td>142.000000</td>\n",
       "      <td>7.25</td>\n",
       "      <td>3</td>\n",
       "      <td>SK Raina</td>\n",
       "      <td>Right-arm offbreak</td>\n",
       "      <td>27-Nov-86</td>\n",
       "      <td>India</td>\n",
       "    </tr>\n",
       "    <tr>\n",
       "      <th>212</th>\n",
       "      <td>309</td>\n",
       "      <td>759.0</td>\n",
       "      <td>100.000000</td>\n",
       "      <td>7.59</td>\n",
       "      <td>3</td>\n",
       "      <td>KK Cooper</td>\n",
       "      <td>Right-arm medium</td>\n",
       "      <td>16-Feb-89</td>\n",
       "      <td>West Indies</td>\n",
       "    </tr>\n",
       "    <tr>\n",
       "      <th>213</th>\n",
       "      <td>124</td>\n",
       "      <td>1089.0</td>\n",
       "      <td>163.833333</td>\n",
       "      <td>6.65</td>\n",
       "      <td>3</td>\n",
       "      <td>A Kumble</td>\n",
       "      <td>Legbreak googly</td>\n",
       "      <td>17-Oct-70</td>\n",
       "      <td>India</td>\n",
       "    </tr>\n",
       "  </tbody>\n",
       "</table>\n",
       "<p>214 rows × 9 columns</p>\n",
       "</div>"
      ],
      "text/plain": [
       "     Player_Id    Runs  Over_count  Econ_Rate  cluster      Player_Name  \\\n",
       "0          219     8.0    1.000000       8.00        0      RS Gavaskar   \n",
       "1          266   144.0   18.833333       7.65        0       AL Menaria   \n",
       "2          259   130.0   16.166667       8.04        0         RV Gomez   \n",
       "3          274   406.0   54.500000       7.45        0        AC Thomas   \n",
       "4          171    42.0    7.000000       6.00        0         M Manhas   \n",
       "..         ...     ...         ...        ...      ...              ...   \n",
       "209        276  1076.0  154.833333       6.95        3  Shakib Al Hasan   \n",
       "210        270   779.0   99.666667       7.82        3        S Aravind   \n",
       "211         21  1029.0  142.000000       7.25        3         SK Raina   \n",
       "212        309   759.0  100.000000       7.59        3        KK Cooper   \n",
       "213        124  1089.0  163.833333       6.65        3         A Kumble   \n",
       "\n",
       "              Bowling_Skill        DOB      Country  \n",
       "0    Slow left-arm orthodox  20-Feb-76        India  \n",
       "1    Slow left-arm orthodox  29-Oct-90        India  \n",
       "2          Right-arm medium  16-Oct-85        India  \n",
       "3     Right-arm fast-medium   9-Feb-77      England  \n",
       "4        Right-arm offbreak  12-Oct-79        India  \n",
       "..                      ...        ...          ...  \n",
       "209  Slow left-arm orthodox  24-Mar-87   Bangladesh  \n",
       "210    Left-arm medium-fast   8-Apr-84        India  \n",
       "211      Right-arm offbreak  27-Nov-86        India  \n",
       "212        Right-arm medium  16-Feb-89  West Indies  \n",
       "213         Legbreak googly  17-Oct-70        India  \n",
       "\n",
       "[214 rows x 9 columns]"
      ]
     },
     "execution_count": 39,
     "metadata": {},
     "output_type": "execute_result"
    }
   ],
   "source": [
    "bowlers = bowlers[bowlers.columns].merge(Players_bowlers, \"left\")\n",
    "bowlers"
   ]
  },
  {
   "cell_type": "code",
   "execution_count": 40,
   "metadata": {
    "execution": {
     "iopub.execute_input": "2022-11-06T09:43:39.909222Z",
     "iopub.status.busy": "2022-11-06T09:43:39.908057Z",
     "iopub.status.idle": "2022-11-06T09:43:39.911053Z",
     "shell.execute_reply": "2022-11-06T09:43:39.910230Z",
     "shell.execute_reply.started": "2022-11-05T14:22:29.606085Z"
    },
    "papermill": {
     "duration": 0.081173,
     "end_time": "2022-11-06T09:43:39.911240",
     "exception": false,
     "start_time": "2022-11-06T09:43:39.830067",
     "status": "completed"
    },
    "tags": []
   },
   "outputs": [],
   "source": [
    "bowlers = bowlers[bowlers['Bowling_Skill'].notna()]"
   ]
  },
  {
   "cell_type": "markdown",
   "metadata": {
    "id": "JJ3JqLw50xwv",
    "papermill": {
     "duration": 0.066427,
     "end_time": "2022-11-06T09:43:40.058758",
     "exception": false,
     "start_time": "2022-11-06T09:43:39.992331",
     "status": "completed"
    },
    "tags": []
   },
   "source": [
    "**Bowling Skill and Cluster assigned to players**"
   ]
  },
  {
   "cell_type": "code",
   "execution_count": 41,
   "metadata": {
    "execution": {
     "iopub.execute_input": "2022-11-06T09:43:40.202113Z",
     "iopub.status.busy": "2022-11-06T09:43:40.201338Z",
     "iopub.status.idle": "2022-11-06T09:43:40.571990Z",
     "shell.execute_reply": "2022-11-06T09:43:40.571039Z",
     "shell.execute_reply.started": "2022-11-05T14:22:29.611138Z"
    },
    "papermill": {
     "duration": 0.446497,
     "end_time": "2022-11-06T09:43:40.572129",
     "exception": false,
     "start_time": "2022-11-06T09:43:40.125632",
     "status": "completed"
    },
    "tags": []
   },
   "outputs": [
    {
     "data": {
      "image/png": "[encoded data removed]",
      "text/plain": [
       "<Figure size 720x576 with 1 Axes>"
      ]
     },
     "metadata": {
      "needs_background": "light"
     },
     "output_type": "display_data"
    }
   ],
   "source": [
    "df_b = bowlers[['Bowling_Skill','cluster']].copy()\n",
    "ct = pd.crosstab(df_b.Bowling_Skill, df_b.cluster)\n",
    "\n",
    "ct.plot.bar(stacked=True)\n",
    "plt.legend(title='cluster',loc='upper right',bbox_to_anchor=(1.25, 1))\n",
    "plt.gcf().set_size_inches(10,8)\n",
    "plt.show()"
   ]
  },
  {
   "cell_type": "code",
   "execution_count": 42,
   "metadata": {
    "execution": {
     "iopub.execute_input": "2022-11-06T09:43:40.715954Z",
     "iopub.status.busy": "2022-11-06T09:43:40.714075Z",
     "iopub.status.idle": "2022-11-06T09:43:40.720507Z",
     "shell.execute_reply": "2022-11-06T09:43:40.719865Z",
     "shell.execute_reply.started": "2022-11-05T14:22:29.867770Z"
    },
    "executionInfo": {
     "elapsed": 7303,
     "status": "ok",
     "timestamp": 1596356841230,
     "user": {
      "displayName": "RUCHI BHATIA",
      "photoUrl": "",
      "userId": "04469733066996764193"
     },
     "user_tz": -330
    },
    "id": "M-AXqJ_YBpGc",
    "papermill": {
     "duration": 0.079367,
     "end_time": "2022-11-06T09:43:40.720627",
     "exception": false,
     "start_time": "2022-11-06T09:43:40.641260",
     "status": "completed"
    },
    "tags": []
   },
   "outputs": [],
   "source": [
    "bowlers.to_csv('/kaggle/working/Bowlers.csv') "
   ]
  },
  {
   "cell_type": "code",
   "execution_count": 43,
   "metadata": {
    "execution": {
     "iopub.execute_input": "2022-11-06T09:43:40.891251Z",
     "iopub.status.busy": "2022-11-06T09:43:40.872494Z",
     "iopub.status.idle": "2022-11-06T09:43:40.895967Z",
     "shell.execute_reply": "2022-11-06T09:43:40.895362Z",
     "shell.execute_reply.started": "2022-11-05T14:22:29.874483Z"
    },
    "executionInfo": {
     "elapsed": 7300,
     "status": "ok",
     "timestamp": 1596356841231,
     "user": {
      "displayName": "RUCHI BHATIA",
      "photoUrl": "",
      "userId": "04469733066996764193"
     },
     "user_tz": -330
    },
    "id": "QY404jyGc7kv",
    "outputId": "4567d330-13ab-46f2-d82a-ff55f69da703",
    "papermill": {
     "duration": 0.107543,
     "end_time": "2022-11-06T09:43:40.896118",
     "exception": false,
     "start_time": "2022-11-06T09:43:40.788575",
     "status": "completed"
    },
    "tags": []
   },
   "outputs": [
    {
     "data": {
      "text/html": [
       "<div>\n",
       "<style scoped>\n",
       "    .dataframe tbody tr th:only-of-type {\n",
       "        vertical-align: middle;\n",
       "    }\n",
       "\n",
       "    .dataframe tbody tr th {\n",
       "        vertical-align: top;\n",
       "    }\n",
       "\n",
       "    .dataframe thead th {\n",
       "        text-align: right;\n",
       "    }\n",
       "</style>\n",
       "<table border=\"1\" class=\"dataframe\">\n",
       "  <thead>\n",
       "    <tr style=\"text-align: right;\">\n",
       "      <th></th>\n",
       "      <th>Balls_played</th>\n",
       "      <th>Batting_Hand</th>\n",
       "      <th>Bowling_Skill</th>\n",
       "      <th>Country</th>\n",
       "      <th>DOB</th>\n",
       "      <th>Econ_Rate</th>\n",
       "      <th>Over_count</th>\n",
       "      <th>Player_Id</th>\n",
       "      <th>Player_Name</th>\n",
       "      <th>Runs</th>\n",
       "      <th>Strike_Rate</th>\n",
       "      <th>cluster</th>\n",
       "    </tr>\n",
       "  </thead>\n",
       "  <tbody>\n",
       "    <tr>\n",
       "      <th>0</th>\n",
       "      <td>2996.0</td>\n",
       "      <td>Right_Hand</td>\n",
       "      <td>NaN</td>\n",
       "      <td>India</td>\n",
       "      <td>30-Apr-87</td>\n",
       "      <td>NaN</td>\n",
       "      <td>NaN</td>\n",
       "      <td>57</td>\n",
       "      <td>RG Sharma</td>\n",
       "      <td>3874.0</td>\n",
       "      <td>129.31</td>\n",
       "      <td>0</td>\n",
       "    </tr>\n",
       "    <tr>\n",
       "      <th>1</th>\n",
       "      <td>2360.0</td>\n",
       "      <td>Left_Hand</td>\n",
       "      <td>NaN</td>\n",
       "      <td>West Indies</td>\n",
       "      <td>21-Sep-79</td>\n",
       "      <td>NaN</td>\n",
       "      <td>NaN</td>\n",
       "      <td>162</td>\n",
       "      <td>CH Gayle</td>\n",
       "      <td>3447.0</td>\n",
       "      <td>146.06</td>\n",
       "      <td>0</td>\n",
       "    </tr>\n",
       "    <tr>\n",
       "      <th>2</th>\n",
       "      <td>3236.0</td>\n",
       "      <td>Right_Hand</td>\n",
       "      <td>NaN</td>\n",
       "      <td>India</td>\n",
       "      <td>5-Nov-88</td>\n",
       "      <td>NaN</td>\n",
       "      <td>NaN</td>\n",
       "      <td>8</td>\n",
       "      <td>V Kohli</td>\n",
       "      <td>4105.0</td>\n",
       "      <td>126.85</td>\n",
       "      <td>0</td>\n",
       "    </tr>\n",
       "    <tr>\n",
       "      <th>3</th>\n",
       "      <td>2440.0</td>\n",
       "      <td>Left_Hand</td>\n",
       "      <td>NaN</td>\n",
       "      <td>Australia</td>\n",
       "      <td>27-Oct-86</td>\n",
       "      <td>NaN</td>\n",
       "      <td>NaN</td>\n",
       "      <td>187</td>\n",
       "      <td>DA Warner</td>\n",
       "      <td>3373.0</td>\n",
       "      <td>138.24</td>\n",
       "      <td>0</td>\n",
       "    </tr>\n",
       "    <tr>\n",
       "      <th>4</th>\n",
       "      <td>2419.0</td>\n",
       "      <td>Right_Hand</td>\n",
       "      <td>NaN</td>\n",
       "      <td>India</td>\n",
       "      <td>7-Jul-81</td>\n",
       "      <td>NaN</td>\n",
       "      <td>NaN</td>\n",
       "      <td>20</td>\n",
       "      <td>MS Dhoni</td>\n",
       "      <td>3270.0</td>\n",
       "      <td>135.18</td>\n",
       "      <td>0</td>\n",
       "    </tr>\n",
       "    <tr>\n",
       "      <th>...</th>\n",
       "      <td>...</td>\n",
       "      <td>...</td>\n",
       "      <td>...</td>\n",
       "      <td>...</td>\n",
       "      <td>...</td>\n",
       "      <td>...</td>\n",
       "      <td>...</td>\n",
       "      <td>...</td>\n",
       "      <td>...</td>\n",
       "      <td>...</td>\n",
       "      <td>...</td>\n",
       "      <td>...</td>\n",
       "    </tr>\n",
       "    <tr>\n",
       "      <th>343</th>\n",
       "      <td>NaN</td>\n",
       "      <td>NaN</td>\n",
       "      <td>Slow left-arm orthodox</td>\n",
       "      <td>Bangladesh</td>\n",
       "      <td>24-Mar-87</td>\n",
       "      <td>6.95</td>\n",
       "      <td>154.833333</td>\n",
       "      <td>276</td>\n",
       "      <td>Shakib Al Hasan</td>\n",
       "      <td>1076.0</td>\n",
       "      <td>NaN</td>\n",
       "      <td>3</td>\n",
       "    </tr>\n",
       "    <tr>\n",
       "      <th>344</th>\n",
       "      <td>NaN</td>\n",
       "      <td>NaN</td>\n",
       "      <td>Left-arm medium-fast</td>\n",
       "      <td>India</td>\n",
       "      <td>8-Apr-84</td>\n",
       "      <td>7.82</td>\n",
       "      <td>99.666667</td>\n",
       "      <td>270</td>\n",
       "      <td>S Aravind</td>\n",
       "      <td>779.0</td>\n",
       "      <td>NaN</td>\n",
       "      <td>3</td>\n",
       "    </tr>\n",
       "    <tr>\n",
       "      <th>345</th>\n",
       "      <td>NaN</td>\n",
       "      <td>NaN</td>\n",
       "      <td>Right-arm offbreak</td>\n",
       "      <td>India</td>\n",
       "      <td>27-Nov-86</td>\n",
       "      <td>7.25</td>\n",
       "      <td>142.000000</td>\n",
       "      <td>21</td>\n",
       "      <td>SK Raina</td>\n",
       "      <td>1029.0</td>\n",
       "      <td>NaN</td>\n",
       "      <td>3</td>\n",
       "    </tr>\n",
       "    <tr>\n",
       "      <th>346</th>\n",
       "      <td>NaN</td>\n",
       "      <td>NaN</td>\n",
       "      <td>Right-arm medium</td>\n",
       "      <td>West Indies</td>\n",
       "      <td>16-Feb-89</td>\n",
       "      <td>7.59</td>\n",
       "      <td>100.000000</td>\n",
       "      <td>309</td>\n",
       "      <td>KK Cooper</td>\n",
       "      <td>759.0</td>\n",
       "      <td>NaN</td>\n",
       "      <td>3</td>\n",
       "    </tr>\n",
       "    <tr>\n",
       "      <th>347</th>\n",
       "      <td>NaN</td>\n",
       "      <td>NaN</td>\n",
       "      <td>Legbreak googly</td>\n",
       "      <td>India</td>\n",
       "      <td>17-Oct-70</td>\n",
       "      <td>6.65</td>\n",
       "      <td>163.833333</td>\n",
       "      <td>124</td>\n",
       "      <td>A Kumble</td>\n",
       "      <td>1089.0</td>\n",
       "      <td>NaN</td>\n",
       "      <td>3</td>\n",
       "    </tr>\n",
       "  </tbody>\n",
       "</table>\n",
       "<p>348 rows × 12 columns</p>\n",
       "</div>"
      ],
      "text/plain": [
       "     Balls_played Batting_Hand           Bowling_Skill      Country  \\\n",
       "0          2996.0   Right_Hand                     NaN        India   \n",
       "1          2360.0    Left_Hand                     NaN  West Indies   \n",
       "2          3236.0   Right_Hand                     NaN        India   \n",
       "3          2440.0    Left_Hand                     NaN    Australia   \n",
       "4          2419.0   Right_Hand                     NaN        India   \n",
       "..            ...          ...                     ...          ...   \n",
       "343           NaN          NaN  Slow left-arm orthodox   Bangladesh   \n",
       "344           NaN          NaN    Left-arm medium-fast        India   \n",
       "345           NaN          NaN      Right-arm offbreak        India   \n",
       "346           NaN          NaN        Right-arm medium  West Indies   \n",
       "347           NaN          NaN         Legbreak googly        India   \n",
       "\n",
       "           DOB  Econ_Rate  Over_count  Player_Id      Player_Name    Runs  \\\n",
       "0    30-Apr-87        NaN         NaN         57        RG Sharma  3874.0   \n",
       "1    21-Sep-79        NaN         NaN        162         CH Gayle  3447.0   \n",
       "2     5-Nov-88        NaN         NaN          8          V Kohli  4105.0   \n",
       "3    27-Oct-86        NaN         NaN        187        DA Warner  3373.0   \n",
       "4     7-Jul-81        NaN         NaN         20         MS Dhoni  3270.0   \n",
       "..         ...        ...         ...        ...              ...     ...   \n",
       "343  24-Mar-87       6.95  154.833333        276  Shakib Al Hasan  1076.0   \n",
       "344   8-Apr-84       7.82   99.666667        270        S Aravind   779.0   \n",
       "345  27-Nov-86       7.25  142.000000         21         SK Raina  1029.0   \n",
       "346  16-Feb-89       7.59  100.000000        309        KK Cooper   759.0   \n",
       "347  17-Oct-70       6.65  163.833333        124         A Kumble  1089.0   \n",
       "\n",
       "     Strike_Rate  cluster  \n",
       "0         129.31        0  \n",
       "1         146.06        0  \n",
       "2         126.85        0  \n",
       "3         138.24        0  \n",
       "4         135.18        0  \n",
       "..           ...      ...  \n",
       "343          NaN        3  \n",
       "344          NaN        3  \n",
       "345          NaN        3  \n",
       "346          NaN        3  \n",
       "347          NaN        3  \n",
       "\n",
       "[348 rows x 12 columns]"
      ]
     },
     "execution_count": 43,
     "metadata": {},
     "output_type": "execute_result"
    }
   ],
   "source": [
    "final=pd.concat([batsmen,bowlers],sort=\"True\").reset_index(drop=True)\n",
    "final"
   ]
  },
  {
   "cell_type": "code",
   "execution_count": 44,
   "metadata": {
    "execution": {
     "iopub.execute_input": "2022-11-06T09:43:41.038664Z",
     "iopub.status.busy": "2022-11-06T09:43:41.036661Z",
     "iopub.status.idle": "2022-11-06T09:43:41.045148Z",
     "shell.execute_reply": "2022-11-06T09:43:41.044411Z",
     "shell.execute_reply.started": "2022-11-05T14:22:29.906243Z"
    },
    "executionInfo": {
     "elapsed": 7295,
     "status": "ok",
     "timestamp": 1596356841231,
     "user": {
      "displayName": "RUCHI BHATIA",
      "photoUrl": "",
      "userId": "04469733066996764193"
     },
     "user_tz": -330
    },
    "id": "YMMw19oLB4S1",
    "papermill": {
     "duration": 0.080764,
     "end_time": "2022-11-06T09:43:41.045278",
     "exception": false,
     "start_time": "2022-11-06T09:43:40.964514",
     "status": "completed"
    },
    "tags": []
   },
   "outputs": [],
   "source": [
    "final.to_csv('/kaggle/working/final.csv')"
   ]
  },
  {
   "cell_type": "markdown",
   "metadata": {
    "id": "5guG_MpLeJV1",
    "papermill": {
     "duration": 0.068227,
     "end_time": "2022-11-06T09:43:41.181880",
     "exception": false,
     "start_time": "2022-11-06T09:43:41.113653",
     "status": "completed"
    },
    "tags": []
   },
   "source": [
    "### Example of a well-rounded Team"
   ]
  },
  {
   "cell_type": "markdown",
   "metadata": {
    "id": "S5SMv_fEeaZi",
    "papermill": {
     "duration": 0.068512,
     "end_time": "2022-11-06T09:43:41.320158",
     "exception": false,
     "start_time": "2022-11-06T09:43:41.251646",
     "status": "completed"
    },
    "tags": []
   },
   "source": [
    "Selecting top 5 batsmen"
   ]
  },
  {
   "cell_type": "code",
   "execution_count": 45,
   "metadata": {
    "execution": {
     "iopub.execute_input": "2022-11-06T09:43:41.465969Z",
     "iopub.status.busy": "2022-11-06T09:43:41.465203Z",
     "iopub.status.idle": "2022-11-06T09:43:41.477971Z",
     "shell.execute_reply": "2022-11-06T09:43:41.477382Z",
     "shell.execute_reply.started": "2022-11-05T14:22:29.913145Z"
    },
    "executionInfo": {
     "elapsed": 7292,
     "status": "ok",
     "timestamp": 1596356841232,
     "user": {
      "displayName": "RUCHI BHATIA",
      "photoUrl": "",
      "userId": "04469733066996764193"
     },
     "user_tz": -330
    },
    "id": "TjodyxR1FZEf",
    "outputId": "42ff044f-971d-42b3-a712-b91debfb744b",
    "papermill": {
     "duration": 0.088971,
     "end_time": "2022-11-06T09:43:41.478108",
     "exception": false,
     "start_time": "2022-11-06T09:43:41.389137",
     "status": "completed"
    },
    "tags": []
   },
   "outputs": [
    {
     "data": {
      "text/html": [
       "<div>\n",
       "<style scoped>\n",
       "    .dataframe tbody tr th:only-of-type {\n",
       "        vertical-align: middle;\n",
       "    }\n",
       "\n",
       "    .dataframe tbody tr th {\n",
       "        vertical-align: top;\n",
       "    }\n",
       "\n",
       "    .dataframe thead th {\n",
       "        text-align: right;\n",
       "    }\n",
       "</style>\n",
       "<table border=\"1\" class=\"dataframe\">\n",
       "  <thead>\n",
       "    <tr style=\"text-align: right;\">\n",
       "      <th></th>\n",
       "      <th>Player_Name</th>\n",
       "      <th>Strike_Rate</th>\n",
       "      <th>DOB</th>\n",
       "      <th>Country</th>\n",
       "    </tr>\n",
       "  </thead>\n",
       "  <tbody>\n",
       "    <tr>\n",
       "      <th>54</th>\n",
       "      <td>CR Brathwaite</td>\n",
       "      <td>207.50</td>\n",
       "      <td>18-Jul-88</td>\n",
       "      <td>West Indies</td>\n",
       "    </tr>\n",
       "    <tr>\n",
       "      <th>83</th>\n",
       "      <td>Umar Gul</td>\n",
       "      <td>205.26</td>\n",
       "      <td>14-Apr-84</td>\n",
       "      <td>Pakistan</td>\n",
       "    </tr>\n",
       "    <tr>\n",
       "      <th>26</th>\n",
       "      <td>RS Sodhi</td>\n",
       "      <td>200.00</td>\n",
       "      <td>18-Oct-80</td>\n",
       "      <td>India</td>\n",
       "    </tr>\n",
       "    <tr>\n",
       "      <th>58</th>\n",
       "      <td>KH Pandya</td>\n",
       "      <td>186.61</td>\n",
       "      <td>24-Mar-91</td>\n",
       "      <td>India</td>\n",
       "    </tr>\n",
       "    <tr>\n",
       "      <th>73</th>\n",
       "      <td>Shahid Afridi</td>\n",
       "      <td>176.09</td>\n",
       "      <td>1-Mar-80</td>\n",
       "      <td>Pakistan</td>\n",
       "    </tr>\n",
       "  </tbody>\n",
       "</table>\n",
       "</div>"
      ],
      "text/plain": [
       "      Player_Name  Strike_Rate        DOB      Country\n",
       "54  CR Brathwaite       207.50  18-Jul-88  West Indies\n",
       "83       Umar Gul       205.26  14-Apr-84     Pakistan\n",
       "26       RS Sodhi       200.00  18-Oct-80        India\n",
       "58      KH Pandya       186.61  24-Mar-91        India\n",
       "73  Shahid Afridi       176.09   1-Mar-80     Pakistan"
      ]
     },
     "execution_count": 45,
     "metadata": {},
     "output_type": "execute_result"
    }
   ],
   "source": [
    "batsmen_team=batsmen[['Player_Name','Strike_Rate','DOB','Country']].sort_values(by=['Strike_Rate'],ascending=False)\n",
    "batsmen_team=batsmen_team.head(5)\n",
    "batsmen_team"
   ]
  },
  {
   "cell_type": "markdown",
   "metadata": {
    "id": "aA34hwuLegY-",
    "papermill": {
     "duration": 0.067955,
     "end_time": "2022-11-06T09:43:41.615225",
     "exception": false,
     "start_time": "2022-11-06T09:43:41.547270",
     "status": "completed"
    },
    "tags": []
   },
   "source": [
    "Selecting top 5 bowlers"
   ]
  },
  {
   "cell_type": "code",
   "execution_count": 46,
   "metadata": {
    "execution": {
     "iopub.execute_input": "2022-11-06T09:43:41.755384Z",
     "iopub.status.busy": "2022-11-06T09:43:41.754661Z",
     "iopub.status.idle": "2022-11-06T09:43:41.768164Z",
     "shell.execute_reply": "2022-11-06T09:43:41.768629Z",
     "shell.execute_reply.started": "2022-11-05T14:22:29.930342Z"
    },
    "executionInfo": {
     "elapsed": 7285,
     "status": "ok",
     "timestamp": 1596356841232,
     "user": {
      "displayName": "RUCHI BHATIA",
      "photoUrl": "",
      "userId": "04469733066996764193"
     },
     "user_tz": -330
    },
    "id": "6I4oS1s3tPLt",
    "outputId": "070a31bd-1815-4fb8-dec8-9a452560e78d",
    "papermill": {
     "duration": 0.084875,
     "end_time": "2022-11-06T09:43:41.768810",
     "exception": false,
     "start_time": "2022-11-06T09:43:41.683935",
     "status": "completed"
    },
    "tags": []
   },
   "outputs": [
    {
     "data": {
      "text/html": [
       "<div>\n",
       "<style scoped>\n",
       "    .dataframe tbody tr th:only-of-type {\n",
       "        vertical-align: middle;\n",
       "    }\n",
       "\n",
       "    .dataframe tbody tr th {\n",
       "        vertical-align: top;\n",
       "    }\n",
       "\n",
       "    .dataframe thead th {\n",
       "        text-align: right;\n",
       "    }\n",
       "</style>\n",
       "<table border=\"1\" class=\"dataframe\">\n",
       "  <thead>\n",
       "    <tr style=\"text-align: right;\">\n",
       "      <th></th>\n",
       "      <th>Player_Name</th>\n",
       "      <th>Econ_Rate</th>\n",
       "      <th>DOB</th>\n",
       "      <th>Country</th>\n",
       "    </tr>\n",
       "  </thead>\n",
       "  <tbody>\n",
       "    <tr>\n",
       "      <th>59</th>\n",
       "      <td>Sachin Baby</td>\n",
       "      <td>4.80</td>\n",
       "      <td>18-Dec-88</td>\n",
       "      <td>India</td>\n",
       "    </tr>\n",
       "    <tr>\n",
       "      <th>28</th>\n",
       "      <td>AM Rahane</td>\n",
       "      <td>5.00</td>\n",
       "      <td>6-Jun-88</td>\n",
       "      <td>India</td>\n",
       "    </tr>\n",
       "    <tr>\n",
       "      <th>25</th>\n",
       "      <td>LA Carseldine</td>\n",
       "      <td>5.14</td>\n",
       "      <td>17-Nov-75</td>\n",
       "      <td>Australia</td>\n",
       "    </tr>\n",
       "    <tr>\n",
       "      <th>19</th>\n",
       "      <td>SS Mundhe</td>\n",
       "      <td>5.14</td>\n",
       "      <td>27-Oct-88</td>\n",
       "      <td>India</td>\n",
       "    </tr>\n",
       "    <tr>\n",
       "      <th>118</th>\n",
       "      <td>DJ Thornely</td>\n",
       "      <td>5.45</td>\n",
       "      <td>1-Oct-78</td>\n",
       "      <td>Australia</td>\n",
       "    </tr>\n",
       "  </tbody>\n",
       "</table>\n",
       "</div>"
      ],
      "text/plain": [
       "       Player_Name  Econ_Rate        DOB    Country\n",
       "59     Sachin Baby       4.80  18-Dec-88      India\n",
       "28       AM Rahane       5.00   6-Jun-88      India\n",
       "25   LA Carseldine       5.14  17-Nov-75  Australia\n",
       "19       SS Mundhe       5.14  27-Oct-88      India\n",
       "118    DJ Thornely       5.45   1-Oct-78  Australia"
      ]
     },
     "execution_count": 46,
     "metadata": {},
     "output_type": "execute_result"
    }
   ],
   "source": [
    "bowlers_team=bowlers[['Player_Name','Econ_Rate','DOB','Country']].sort_values(by=['Econ_Rate'])\n",
    "bowlers_team=bowlers_team.head(5)\n",
    "bowlers_team"
   ]
  },
  {
   "cell_type": "markdown",
   "metadata": {
    "id": "SjvWXN0vei_V",
    "papermill": {
     "duration": 0.068328,
     "end_time": "2022-11-06T09:43:41.906753",
     "exception": false,
     "start_time": "2022-11-06T09:43:41.838425",
     "status": "completed"
    },
    "tags": []
   },
   "source": [
    "Selecting top 10 all rounders"
   ]
  },
  {
   "cell_type": "code",
   "execution_count": 47,
   "metadata": {
    "execution": {
     "iopub.execute_input": "2022-11-06T09:43:42.048664Z",
     "iopub.status.busy": "2022-11-06T09:43:42.048007Z",
     "iopub.status.idle": "2022-11-06T09:43:42.077345Z",
     "shell.execute_reply": "2022-11-06T09:43:42.076549Z",
     "shell.execute_reply.started": "2022-11-05T14:22:29.945370Z"
    },
    "executionInfo": {
     "elapsed": 7280,
     "status": "ok",
     "timestamp": 1596356841233,
     "user": {
      "displayName": "RUCHI BHATIA",
      "photoUrl": "",
      "userId": "04469733066996764193"
     },
     "user_tz": -330
    },
    "id": "YHjo6sq_uvsX",
    "outputId": "f8643258-c5c0-4695-8f37-b75690cff950",
    "papermill": {
     "duration": 0.101038,
     "end_time": "2022-11-06T09:43:42.077536",
     "exception": false,
     "start_time": "2022-11-06T09:43:41.976498",
     "status": "completed"
    },
    "tags": []
   },
   "outputs": [
    {
     "name": "stderr",
     "output_type": "stream",
     "text": [
      "/opt/conda/lib/python3.7/site-packages/pandas/core/frame.py:4301: SettingWithCopyWarning:\n",
      "\n",
      "\n",
      "A value is trying to be set on a copy of a slice from a DataFrame\n",
      "\n",
      "See the caveats in the documentation: https://pandas.pydata.org/pandas-docs/stable/user_guide/indexing.html#returning-a-view-versus-a-copy\n",
      "\n"
     ]
    },
    {
     "data": {
      "text/html": [
       "<div>\n",
       "<style scoped>\n",
       "    .dataframe tbody tr th:only-of-type {\n",
       "        vertical-align: middle;\n",
       "    }\n",
       "\n",
       "    .dataframe tbody tr th {\n",
       "        vertical-align: top;\n",
       "    }\n",
       "\n",
       "    .dataframe thead th {\n",
       "        text-align: right;\n",
       "    }\n",
       "</style>\n",
       "<table border=\"1\" class=\"dataframe\">\n",
       "  <thead>\n",
       "    <tr style=\"text-align: right;\">\n",
       "      <th></th>\n",
       "      <th>Player_Name</th>\n",
       "      <th>Strike_Rate</th>\n",
       "      <th>Econ_Rate</th>\n",
       "      <th>DOB</th>\n",
       "      <th>Country</th>\n",
       "    </tr>\n",
       "  </thead>\n",
       "  <tbody>\n",
       "    <tr>\n",
       "      <th>0</th>\n",
       "      <td>RG Sharma</td>\n",
       "      <td>129.31</td>\n",
       "      <td>7.88</td>\n",
       "      <td>30-Apr-87</td>\n",
       "      <td>India</td>\n",
       "    </tr>\n",
       "    <tr>\n",
       "      <th>1</th>\n",
       "      <td>CH Gayle</td>\n",
       "      <td>146.06</td>\n",
       "      <td>7.74</td>\n",
       "      <td>21-Sep-79</td>\n",
       "      <td>West Indies</td>\n",
       "    </tr>\n",
       "    <tr>\n",
       "      <th>2</th>\n",
       "      <td>V Kohli</td>\n",
       "      <td>126.85</td>\n",
       "      <td>8.43</td>\n",
       "      <td>5-Nov-88</td>\n",
       "      <td>India</td>\n",
       "    </tr>\n",
       "    <tr>\n",
       "      <th>3</th>\n",
       "      <td>SK Raina</td>\n",
       "      <td>134.23</td>\n",
       "      <td>7.25</td>\n",
       "      <td>27-Nov-86</td>\n",
       "      <td>India</td>\n",
       "    </tr>\n",
       "    <tr>\n",
       "      <th>4</th>\n",
       "      <td>PD Collingwood</td>\n",
       "      <td>127.67</td>\n",
       "      <td>6.73</td>\n",
       "      <td>26-May-76</td>\n",
       "      <td>England</td>\n",
       "    </tr>\n",
       "    <tr>\n",
       "      <th>5</th>\n",
       "      <td>AC Voges</td>\n",
       "      <td>126.57</td>\n",
       "      <td>8.14</td>\n",
       "      <td>4-Oct-79</td>\n",
       "      <td>Australia</td>\n",
       "    </tr>\n",
       "    <tr>\n",
       "      <th>6</th>\n",
       "      <td>Bipul Sharma</td>\n",
       "      <td>157.58</td>\n",
       "      <td>7.88</td>\n",
       "      <td>28-Sep-83</td>\n",
       "      <td>India</td>\n",
       "    </tr>\n",
       "    <tr>\n",
       "      <th>7</th>\n",
       "      <td>CH Morris</td>\n",
       "      <td>160.11</td>\n",
       "      <td>7.46</td>\n",
       "      <td>30-Apr-87</td>\n",
       "      <td>South Africa</td>\n",
       "    </tr>\n",
       "    <tr>\n",
       "      <th>8</th>\n",
       "      <td>M Morkel</td>\n",
       "      <td>135.48</td>\n",
       "      <td>7.43</td>\n",
       "      <td>6-Oct-84</td>\n",
       "      <td>South Africa</td>\n",
       "    </tr>\n",
       "    <tr>\n",
       "      <th>9</th>\n",
       "      <td>Sachin Baby</td>\n",
       "      <td>137.08</td>\n",
       "      <td>4.80</td>\n",
       "      <td>18-Dec-88</td>\n",
       "      <td>India</td>\n",
       "    </tr>\n",
       "  </tbody>\n",
       "</table>\n",
       "</div>"
      ],
      "text/plain": [
       "      Player_Name  Strike_Rate  Econ_Rate        DOB       Country\n",
       "0       RG Sharma       129.31       7.88  30-Apr-87         India\n",
       "1        CH Gayle       146.06       7.74  21-Sep-79   West Indies\n",
       "2         V Kohli       126.85       8.43   5-Nov-88         India\n",
       "3        SK Raina       134.23       7.25  27-Nov-86         India\n",
       "4  PD Collingwood       127.67       6.73  26-May-76       England\n",
       "5        AC Voges       126.57       8.14   4-Oct-79     Australia\n",
       "6    Bipul Sharma       157.58       7.88  28-Sep-83         India\n",
       "7       CH Morris       160.11       7.46  30-Apr-87  South Africa\n",
       "8        M Morkel       135.48       7.43   6-Oct-84  South Africa\n",
       "9     Sachin Baby       137.08       4.80  18-Dec-88         India"
      ]
     },
     "execution_count": 47,
     "metadata": {},
     "output_type": "execute_result"
    }
   ],
   "source": [
    "d1 = pd.merge(batsmen,bowlers, how='inner', on=['Player_Id'])\n",
    "d2 = pd.merge(d1,players, on='Player_Id')\n",
    "all_rounder_team=d2[['Player_Name_x','Strike_Rate','Econ_Rate','DOB','Country']]\n",
    "all_rounder_team.rename(columns = {'Player_Name_x':'Player_Name'}, inplace = True) \n",
    "all_rounder_team=all_rounder_team.head(10)\n",
    "all_rounder_team"
   ]
  },
  {
   "cell_type": "code",
   "execution_count": 48,
   "metadata": {
    "execution": {
     "iopub.execute_input": "2022-11-06T09:43:42.229094Z",
     "iopub.status.busy": "2022-11-06T09:43:42.228309Z",
     "iopub.status.idle": "2022-11-06T09:43:42.245189Z",
     "shell.execute_reply": "2022-11-06T09:43:42.244658Z",
     "shell.execute_reply.started": "2022-11-05T14:22:29.969284Z"
    },
    "executionInfo": {
     "elapsed": 7273,
     "status": "ok",
     "timestamp": 1596356841233,
     "user": {
      "displayName": "RUCHI BHATIA",
      "photoUrl": "",
      "userId": "04469733066996764193"
     },
     "user_tz": -330
    },
    "id": "4zzGT4z4EsvP",
    "outputId": "48daa1a8-dc73-4c68-efdb-ee27f110597e",
    "papermill": {
     "duration": 0.098094,
     "end_time": "2022-11-06T09:43:42.245313",
     "exception": false,
     "start_time": "2022-11-06T09:43:42.147219",
     "status": "completed"
    },
    "tags": []
   },
   "outputs": [
    {
     "name": "stdout",
     "output_type": "stream",
     "text": [
      "------------------------------ Well rounded team ------------------------------ \n",
      "\n"
     ]
    },
    {
     "data": {
      "text/html": [
       "<div>\n",
       "<style scoped>\n",
       "    .dataframe tbody tr th:only-of-type {\n",
       "        vertical-align: middle;\n",
       "    }\n",
       "\n",
       "    .dataframe tbody tr th {\n",
       "        vertical-align: top;\n",
       "    }\n",
       "\n",
       "    .dataframe thead th {\n",
       "        text-align: right;\n",
       "    }\n",
       "</style>\n",
       "<table border=\"1\" class=\"dataframe\">\n",
       "  <thead>\n",
       "    <tr style=\"text-align: right;\">\n",
       "      <th></th>\n",
       "      <th>Player_Name</th>\n",
       "      <th>Strike_Rate</th>\n",
       "      <th>Econ_Rate</th>\n",
       "      <th>DOB</th>\n",
       "      <th>Country</th>\n",
       "    </tr>\n",
       "  </thead>\n",
       "  <tbody>\n",
       "    <tr>\n",
       "      <th>0</th>\n",
       "      <td>CR Brathwaite</td>\n",
       "      <td>207.50</td>\n",
       "      <td>NaN</td>\n",
       "      <td>18-Jul-88</td>\n",
       "      <td>West Indies</td>\n",
       "    </tr>\n",
       "    <tr>\n",
       "      <th>1</th>\n",
       "      <td>Umar Gul</td>\n",
       "      <td>205.26</td>\n",
       "      <td>NaN</td>\n",
       "      <td>14-Apr-84</td>\n",
       "      <td>Pakistan</td>\n",
       "    </tr>\n",
       "    <tr>\n",
       "      <th>2</th>\n",
       "      <td>RS Sodhi</td>\n",
       "      <td>200.00</td>\n",
       "      <td>NaN</td>\n",
       "      <td>18-Oct-80</td>\n",
       "      <td>India</td>\n",
       "    </tr>\n",
       "    <tr>\n",
       "      <th>3</th>\n",
       "      <td>KH Pandya</td>\n",
       "      <td>186.61</td>\n",
       "      <td>NaN</td>\n",
       "      <td>24-Mar-91</td>\n",
       "      <td>India</td>\n",
       "    </tr>\n",
       "    <tr>\n",
       "      <th>4</th>\n",
       "      <td>Shahid Afridi</td>\n",
       "      <td>176.09</td>\n",
       "      <td>NaN</td>\n",
       "      <td>1-Mar-80</td>\n",
       "      <td>Pakistan</td>\n",
       "    </tr>\n",
       "    <tr>\n",
       "      <th>5</th>\n",
       "      <td>Sachin Baby</td>\n",
       "      <td>NaN</td>\n",
       "      <td>4.80</td>\n",
       "      <td>18-Dec-88</td>\n",
       "      <td>India</td>\n",
       "    </tr>\n",
       "    <tr>\n",
       "      <th>6</th>\n",
       "      <td>AM Rahane</td>\n",
       "      <td>NaN</td>\n",
       "      <td>5.00</td>\n",
       "      <td>6-Jun-88</td>\n",
       "      <td>India</td>\n",
       "    </tr>\n",
       "    <tr>\n",
       "      <th>7</th>\n",
       "      <td>LA Carseldine</td>\n",
       "      <td>NaN</td>\n",
       "      <td>5.14</td>\n",
       "      <td>17-Nov-75</td>\n",
       "      <td>Australia</td>\n",
       "    </tr>\n",
       "    <tr>\n",
       "      <th>8</th>\n",
       "      <td>SS Mundhe</td>\n",
       "      <td>NaN</td>\n",
       "      <td>5.14</td>\n",
       "      <td>27-Oct-88</td>\n",
       "      <td>India</td>\n",
       "    </tr>\n",
       "    <tr>\n",
       "      <th>9</th>\n",
       "      <td>DJ Thornely</td>\n",
       "      <td>NaN</td>\n",
       "      <td>5.45</td>\n",
       "      <td>1-Oct-78</td>\n",
       "      <td>Australia</td>\n",
       "    </tr>\n",
       "    <tr>\n",
       "      <th>10</th>\n",
       "      <td>RG Sharma</td>\n",
       "      <td>129.31</td>\n",
       "      <td>7.88</td>\n",
       "      <td>30-Apr-87</td>\n",
       "      <td>India</td>\n",
       "    </tr>\n",
       "    <tr>\n",
       "      <th>11</th>\n",
       "      <td>CH Gayle</td>\n",
       "      <td>146.06</td>\n",
       "      <td>7.74</td>\n",
       "      <td>21-Sep-79</td>\n",
       "      <td>West Indies</td>\n",
       "    </tr>\n",
       "    <tr>\n",
       "      <th>12</th>\n",
       "      <td>V Kohli</td>\n",
       "      <td>126.85</td>\n",
       "      <td>8.43</td>\n",
       "      <td>5-Nov-88</td>\n",
       "      <td>India</td>\n",
       "    </tr>\n",
       "    <tr>\n",
       "      <th>13</th>\n",
       "      <td>SK Raina</td>\n",
       "      <td>134.23</td>\n",
       "      <td>7.25</td>\n",
       "      <td>27-Nov-86</td>\n",
       "      <td>India</td>\n",
       "    </tr>\n",
       "    <tr>\n",
       "      <th>14</th>\n",
       "      <td>PD Collingwood</td>\n",
       "      <td>127.67</td>\n",
       "      <td>6.73</td>\n",
       "      <td>26-May-76</td>\n",
       "      <td>England</td>\n",
       "    </tr>\n",
       "    <tr>\n",
       "      <th>15</th>\n",
       "      <td>AC Voges</td>\n",
       "      <td>126.57</td>\n",
       "      <td>8.14</td>\n",
       "      <td>4-Oct-79</td>\n",
       "      <td>Australia</td>\n",
       "    </tr>\n",
       "    <tr>\n",
       "      <th>16</th>\n",
       "      <td>Bipul Sharma</td>\n",
       "      <td>157.58</td>\n",
       "      <td>7.88</td>\n",
       "      <td>28-Sep-83</td>\n",
       "      <td>India</td>\n",
       "    </tr>\n",
       "    <tr>\n",
       "      <th>17</th>\n",
       "      <td>CH Morris</td>\n",
       "      <td>160.11</td>\n",
       "      <td>7.46</td>\n",
       "      <td>30-Apr-87</td>\n",
       "      <td>South Africa</td>\n",
       "    </tr>\n",
       "    <tr>\n",
       "      <th>18</th>\n",
       "      <td>M Morkel</td>\n",
       "      <td>135.48</td>\n",
       "      <td>7.43</td>\n",
       "      <td>6-Oct-84</td>\n",
       "      <td>South Africa</td>\n",
       "    </tr>\n",
       "  </tbody>\n",
       "</table>\n",
       "</div>"
      ],
      "text/plain": [
       "       Player_Name  Strike_Rate  Econ_Rate        DOB       Country\n",
       "0    CR Brathwaite       207.50        NaN  18-Jul-88   West Indies\n",
       "1         Umar Gul       205.26        NaN  14-Apr-84      Pakistan\n",
       "2         RS Sodhi       200.00        NaN  18-Oct-80         India\n",
       "3        KH Pandya       186.61        NaN  24-Mar-91         India\n",
       "4    Shahid Afridi       176.09        NaN   1-Mar-80      Pakistan\n",
       "5      Sachin Baby          NaN       4.80  18-Dec-88         India\n",
       "6        AM Rahane          NaN       5.00   6-Jun-88         India\n",
       "7    LA Carseldine          NaN       5.14  17-Nov-75     Australia\n",
       "8        SS Mundhe          NaN       5.14  27-Oct-88         India\n",
       "9      DJ Thornely          NaN       5.45   1-Oct-78     Australia\n",
       "10       RG Sharma       129.31       7.88  30-Apr-87         India\n",
       "11        CH Gayle       146.06       7.74  21-Sep-79   West Indies\n",
       "12         V Kohli       126.85       8.43   5-Nov-88         India\n",
       "13        SK Raina       134.23       7.25  27-Nov-86         India\n",
       "14  PD Collingwood       127.67       6.73  26-May-76       England\n",
       "15        AC Voges       126.57       8.14   4-Oct-79     Australia\n",
       "16    Bipul Sharma       157.58       7.88  28-Sep-83         India\n",
       "17       CH Morris       160.11       7.46  30-Apr-87  South Africa\n",
       "18        M Morkel       135.48       7.43   6-Oct-84  South Africa"
      ]
     },
     "execution_count": 48,
     "metadata": {},
     "output_type": "execute_result"
    }
   ],
   "source": [
    "df=pd.concat([batsmen_team,bowlers_team,all_rounder_team],sort=True).drop_duplicates(subset='Player_Name', keep=\"first\").reset_index(drop=True)\n",
    "df=df[['Player_Name','Strike_Rate','Econ_Rate','DOB','Country']]\n",
    "print(\"-\"*30,\"Well rounded team\",\"-\"*30,\"\\n\")\n",
    "df"
   ]
  },
  {
   "cell_type": "markdown",
   "metadata": {
    "id": "XbtfVpAl0gC9",
    "papermill": {
     "duration": 0.070321,
     "end_time": "2022-11-06T09:43:42.386603",
     "exception": false,
     "start_time": "2022-11-06T09:43:42.316282",
     "status": "completed"
    },
    "tags": []
   },
   "source": [
    "The players with:\n",
    "\n",
    "Strike_Rate: NaN are **batsmen**\n",
    "\n",
    "Economy_Rate: NaN are **bowlers**\n",
    "\n",
    "both Strike_Rate and Economy_Rate listed are **all rounders**."
   ]
  }
 ],
 "metadata": {
  "kernelspec": {
   "display_name": "Python 3",
   "language": "python",
   "name": "python3"
  },
  "language_info": {
   "codemirror_mode": {
    "name": "ipython",
    "version": 3
   },
   "file_extension": ".py",
   "mimetype": "text/x-python",
   "name": "python",
   "nbconvert_exporter": "python",
   "pygments_lexer": "ipython3",
   "version": "3.7.6"
  },
  "papermill": {
   "duration": 23.929682,
   "end_time": "2022-11-06T09:43:42.563809",
   "environment_variables": {},
   "exception": null,
   "input_path": "__notebook__.ipynb",
   "output_path": "__notebook__.ipynb",
   "parameters": {},
   "start_time": "2022-11-06T09:43:18.634127",
   "version": "2.1.0"
  }
 },
 "nbformat": 4,
 "nbformat_minor": 4
}
